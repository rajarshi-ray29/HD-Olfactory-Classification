{
  "cells": [
    {
      "cell_type": "markdown",
      "metadata": {
        "id": "0P5tPVMzfPYh"
      },
      "source": [
        "# Imports\n"
      ]
    },
    {
      "cell_type": "code",
      "execution_count": 1,
      "metadata": {
        "id": "NPvwF6utWKEC"
      },
      "outputs": [],
      "source": [
        "import re\n",
        "import string\n",
        "import pandas as pd\n",
        "import numpy as np\n",
        "import seaborn as sns\n",
        "import matplotlib.pyplot as plt\n",
        "import warnings\n",
        "import time\n",
        "import math\n",
        "import random"
      ]
    },
    {
      "cell_type": "code",
      "execution_count": 2,
      "metadata": {
        "colab": {
          "base_uri": "https://localhost:8080/",
          "height": 206
        },
        "id": "57rmIj3RWfi8",
        "outputId": "514a904a-9947-402a-b753-e4512063ec1d"
      },
      "outputs": [
        {
          "data": {
            "text/html": [
              "<div>\n",
              "<style scoped>\n",
              "    .dataframe tbody tr th:only-of-type {\n",
              "        vertical-align: middle;\n",
              "    }\n",
              "\n",
              "    .dataframe tbody tr th {\n",
              "        vertical-align: top;\n",
              "    }\n",
              "\n",
              "    .dataframe thead th {\n",
              "        text-align: right;\n",
              "    }\n",
              "</style>\n",
              "<table border=\"1\" class=\"dataframe\">\n",
              "  <thead>\n",
              "    <tr style=\"text-align: right;\">\n",
              "      <th></th>\n",
              "      <th>Compound Identifier</th>\n",
              "      <th>Odor</th>\n",
              "      <th>Dilution</th>\n",
              "      <th>VALENCE/PLEASANTNESS</th>\n",
              "      <th>BAKERY</th>\n",
              "      <th>SWEET</th>\n",
              "      <th>FRUIT</th>\n",
              "      <th>FISH</th>\n",
              "      <th>GARLIC</th>\n",
              "      <th>SPICES</th>\n",
              "      <th>...</th>\n",
              "      <th>ACID</th>\n",
              "      <th>WARM</th>\n",
              "      <th>MUSKY</th>\n",
              "      <th>SWEATY</th>\n",
              "      <th>AMMONIA/URINOUS</th>\n",
              "      <th>DECAYED</th>\n",
              "      <th>WOOD</th>\n",
              "      <th>GRASS</th>\n",
              "      <th>FLOWER</th>\n",
              "      <th>CHEMICAL</th>\n",
              "    </tr>\n",
              "  </thead>\n",
              "  <tbody>\n",
              "    <tr>\n",
              "      <th>0</th>\n",
              "      <td>126</td>\n",
              "      <td>4-Hydroxybenzaldehyde</td>\n",
              "      <td>0.001</td>\n",
              "      <td>62.0</td>\n",
              "      <td>0.0</td>\n",
              "      <td>0.0</td>\n",
              "      <td>0.0</td>\n",
              "      <td>0.0</td>\n",
              "      <td>0.0</td>\n",
              "      <td>0.0</td>\n",
              "      <td>...</td>\n",
              "      <td>0.0</td>\n",
              "      <td>0.0</td>\n",
              "      <td>0.0</td>\n",
              "      <td>21.0</td>\n",
              "      <td>0.0</td>\n",
              "      <td>0.0</td>\n",
              "      <td>0.0</td>\n",
              "      <td>0.0</td>\n",
              "      <td>0.0</td>\n",
              "      <td>0.0</td>\n",
              "    </tr>\n",
              "    <tr>\n",
              "      <th>1</th>\n",
              "      <td>126</td>\n",
              "      <td>4-Hydroxybenzaldehyde</td>\n",
              "      <td>0.100</td>\n",
              "      <td>60.0</td>\n",
              "      <td>0.0</td>\n",
              "      <td>72.0</td>\n",
              "      <td>0.0</td>\n",
              "      <td>0.0</td>\n",
              "      <td>0.0</td>\n",
              "      <td>0.0</td>\n",
              "      <td>...</td>\n",
              "      <td>0.0</td>\n",
              "      <td>0.0</td>\n",
              "      <td>0.0</td>\n",
              "      <td>0.0</td>\n",
              "      <td>0.0</td>\n",
              "      <td>0.0</td>\n",
              "      <td>0.0</td>\n",
              "      <td>0.0</td>\n",
              "      <td>0.0</td>\n",
              "      <td>0.0</td>\n",
              "    </tr>\n",
              "    <tr>\n",
              "      <th>2</th>\n",
              "      <td>126</td>\n",
              "      <td>4-Hydroxybenzaldehyde</td>\n",
              "      <td>0.001</td>\n",
              "      <td>89.0</td>\n",
              "      <td>0.0</td>\n",
              "      <td>33.0</td>\n",
              "      <td>1.0</td>\n",
              "      <td>0.0</td>\n",
              "      <td>0.0</td>\n",
              "      <td>3.0</td>\n",
              "      <td>...</td>\n",
              "      <td>0.0</td>\n",
              "      <td>0.0</td>\n",
              "      <td>0.0</td>\n",
              "      <td>0.0</td>\n",
              "      <td>0.0</td>\n",
              "      <td>0.0</td>\n",
              "      <td>0.0</td>\n",
              "      <td>0.0</td>\n",
              "      <td>0.0</td>\n",
              "      <td>5.0</td>\n",
              "    </tr>\n",
              "    <tr>\n",
              "      <th>3</th>\n",
              "      <td>126</td>\n",
              "      <td>4-Hydroxybenzaldehyde</td>\n",
              "      <td>0.100</td>\n",
              "      <td>71.0</td>\n",
              "      <td>0.0</td>\n",
              "      <td>9.0</td>\n",
              "      <td>2.0</td>\n",
              "      <td>0.0</td>\n",
              "      <td>0.0</td>\n",
              "      <td>11.0</td>\n",
              "      <td>...</td>\n",
              "      <td>0.0</td>\n",
              "      <td>0.0</td>\n",
              "      <td>0.0</td>\n",
              "      <td>0.0</td>\n",
              "      <td>0.0</td>\n",
              "      <td>0.0</td>\n",
              "      <td>0.0</td>\n",
              "      <td>0.0</td>\n",
              "      <td>0.0</td>\n",
              "      <td>7.0</td>\n",
              "    </tr>\n",
              "    <tr>\n",
              "      <th>4</th>\n",
              "      <td>126</td>\n",
              "      <td>4-Hydroxybenzaldehyde</td>\n",
              "      <td>0.001</td>\n",
              "      <td>68.0</td>\n",
              "      <td>0.0</td>\n",
              "      <td>62.0</td>\n",
              "      <td>0.0</td>\n",
              "      <td>0.0</td>\n",
              "      <td>0.0</td>\n",
              "      <td>35.0</td>\n",
              "      <td>...</td>\n",
              "      <td>0.0</td>\n",
              "      <td>62.0</td>\n",
              "      <td>0.0</td>\n",
              "      <td>0.0</td>\n",
              "      <td>0.0</td>\n",
              "      <td>0.0</td>\n",
              "      <td>0.0</td>\n",
              "      <td>0.0</td>\n",
              "      <td>0.0</td>\n",
              "      <td>0.0</td>\n",
              "    </tr>\n",
              "  </tbody>\n",
              "</table>\n",
              "<p>5 rows × 23 columns</p>\n",
              "</div>"
            ],
            "text/plain": [
              "   Compound Identifier                    Odor  Dilution  \\\n",
              "0                  126  4-Hydroxybenzaldehyde      0.001   \n",
              "1                  126  4-Hydroxybenzaldehyde      0.100   \n",
              "2                  126  4-Hydroxybenzaldehyde      0.001   \n",
              "3                  126  4-Hydroxybenzaldehyde      0.100   \n",
              "4                  126  4-Hydroxybenzaldehyde      0.001   \n",
              "\n",
              "   VALENCE/PLEASANTNESS  BAKERY  SWEET  FRUIT  FISH  GARLIC  SPICES  ...  \\\n",
              "0                  62.0     0.0    0.0    0.0   0.0     0.0     0.0  ...   \n",
              "1                  60.0     0.0   72.0    0.0   0.0     0.0     0.0  ...   \n",
              "2                  89.0     0.0   33.0    1.0   0.0     0.0     3.0  ...   \n",
              "3                  71.0     0.0    9.0    2.0   0.0     0.0    11.0  ...   \n",
              "4                  68.0     0.0   62.0    0.0   0.0     0.0    35.0  ...   \n",
              "\n",
              "   ACID  WARM  MUSKY  SWEATY  AMMONIA/URINOUS  DECAYED  WOOD  GRASS  FLOWER  \\\n",
              "0   0.0   0.0    0.0    21.0              0.0      0.0   0.0    0.0     0.0   \n",
              "1   0.0   0.0    0.0     0.0              0.0      0.0   0.0    0.0     0.0   \n",
              "2   0.0   0.0    0.0     0.0              0.0      0.0   0.0    0.0     0.0   \n",
              "3   0.0   0.0    0.0     0.0              0.0      0.0   0.0    0.0     0.0   \n",
              "4   0.0  62.0    0.0     0.0              0.0      0.0   0.0    0.0     0.0   \n",
              "\n",
              "   CHEMICAL  \n",
              "0       0.0  \n",
              "1       0.0  \n",
              "2       5.0  \n",
              "3       7.0  \n",
              "4       0.0  \n",
              "\n",
              "[5 rows x 23 columns]"
            ]
          },
          "execution_count": 2,
          "metadata": {},
          "output_type": "execute_result"
        }
      ],
      "source": [
        "df = pd.read_csv('data/SparsedTrainSet.csv')\n",
        "df.head()"
      ]
    },
    {
      "cell_type": "markdown",
      "metadata": {
        "id": "kpUo87tGZNEI"
      },
      "source": [
        "# Data Pre Processing\n"
      ]
    },
    {
      "cell_type": "code",
      "execution_count": 6,
      "metadata": {
        "colab": {
          "base_uri": "https://localhost:8080/"
        },
        "id": "YlMmhIb2ZQNB",
        "outputId": "c13a1503-fe33-4d72-e2fb-387eca378402"
      },
      "outputs": [
        {
          "name": "stdout",
          "output_type": "stream",
          "text": [
            "Counter({'(-)-Carvone ': 98, 'Linoleic acid (replicate) ': 98, '2-acetyl pyridine ': 97, 'Cyclopentanethiol ': 97, '2-isobutyl-3-methoxypyrazine ': 97, 'Methylcyclopentenolone ': 97, '2-Furanmethanethiol formate ': 97, 'Methyl thiobutyrate ': 97, 'Ethyl 2-methylpentanoate ': 97, '2,5-Dihydroxy-1,4-dithiane ': 97, 'Iodoform ': 96, 'Nerolin Yara Yara ': 96, '2-Ethyl-3-methylpyrazine ': 96, '2-Acetyl-3,5(6)-dimethylpyrazine ': 96, 'vanillin ': 95, 'Benzyl isothiocyanate ': 95, '2-ethylphenol ': 95, 'Methyl beta-naphthyl ketone ': 95, 'p-Tolyl acetate ': 95, 'caproic acid ': 95, '4-Pentenoic acid ': 95, \"2,2'-(Thiodimethylene)difuran \": 95, 'para-cymene ': 94, 'Diethyl disulfide ': 94, 'Ethyl Valerate ': 94, '2,5-Dimethyl-4-methoxy-3(2H)-furanone ': 94, '2-Ethoxythiazole ': 94, 'D-Camphor ': 94, 'Linoleic acid ': 94, 'Allyl tiglate ': 94, 'p-cresol ': 93, '2-phenylethanol ': 93, '2-Hydroxyacetophenone ': 93, '7-Methoxycoumarin ': 93, 'Dimethyl trisulfide (replicate) ': 93, 'trans-Cinnamic acid ': 93, '2-(1-Methylpropyl)thiazole ': 93, 'decanoic acid ': 92, '3-(methylthio)-1-propanol ': 92, '2-Aminoacetophenone ': 92, 'Dimethyl trisulfide ': 92, 'ethyl hexanoate ': 92, '3,7-Dimethyl-2,6-octadienenitrile ': 92, 'benzyl alcohol ': 91, '2,3-butanedione ': 91, '4-Methyl-5-thiazoleethanol ': 91, '2,6-Dimethylpyridine ': 91, 'Methyl anthranilate ': 91, '1-Hepten-3-ol ': 91, 'Vanillin Acetate ': 91, 'Guaiacyl phenylacetate ': 91, 'Ethyl 2-methylpentanoate (replicate) ': 91, 'Ethyl 3-(furfurylthio)propionate ': 91, 'ethyl butyrate ': 90, '3-(Methylthio)propionaldehyde ': 90, 'alpha-Amylcinnamaldehyde ': 90, '( + )-menthol ': 90, 'salicylaldehyde ': 89, 'Diethyl malonate ': 89, '1-undecanol ': 89, 'Ethyl 2-furoate ': 89, 'p-Anisaldehyde ': 89, 'L-Proline ': 89, 'cis-2-Nonen-1-ol ': 89, 'butyraldehyde ': 88, '2-ethyl-1-hexanol ': 88, '4-Methylanisole ': 88, 'Carvacrol ': 88, 'isovaleric acid ': 88, '3-Methyl-1-butanethiol ': 88, 'delta-Decalactone ': 88, '4-Heptanone ': 88, 'Whiskey lactone ': 88, 'cinnamyl alcohol ': 88, 'Guaiacol ': 87, 'Dihydrocoumarin ': 87, '6-methyl quinoline ': 87, 'Methyl nicotinate ': 87, '2-Ethylhexanoic acid ': 87, 'benzyl acetate ': 87, 'cis-4-Heptenal ': 87, 'methyl sulfide ': 86, 'Allyl butyrate ': 86, '2-Phenylethyl isothiocyanate ': 86, '3-(5-Methyl-2-furyl)butanal ': 86, 'Guaiacol (replicate) ': 85, 'Methyl butyrate ': 85, 'Ethyl undecanoate ': 85, '4-(4-Hydroxyphenyl)-2-butanone ': 85, 'Hexyl benzoate ': 85, 'Hexyl benzoate (replicate) ': 85, 'diethyl succinate ': 85, 'butyl acetate ': 85, '2-Acetyl-3-ethylpyrazine ': 85, 'Nopol acetate ': 85, 'geraniol ': 85, 'acetophenone ': 84, '1,3-Diphenyl-2-propanone ': 84, 'ethyl propionate ': 84, 'o-Anisaldehyde ': 84, '1-Octen-3-ol ': 84, '4-Methyl-5-thiazoleethanol acetate ': 84, '3-Octyl Acetate ': 84, 'cis-3-hexenyl acetate ': 84, '1,8-cineole ': 83, 'L-Leucine ': 83, '3-hexanol ': 83, 'gamma-decalactone ': 83, '5-Ethyl-3-hydroxy-4-methyl-2(5H)-furanone (replicate) ': 83, 'Allyl 2-ethylbutyrate ': 83, 'Methyl (methylthio)acetate ': 83, 'beta-Ionone ': 83, 'Triacetin ': 82, 'D-(-)-Ribose ': 82, '2-Isopropylphenol ': 82, 'Biphenyl ': 82, 'carvyl acetate ': 82, 'Nonyl acetate ': 82, '2-hexanol ': 82, '4-propylphenol ': 82, 'Bis(methylthio)methane ': 82, '4-Ethoxybenzaldehyde ': 82, 'Benzaldehyde dimethyl acetal ': 82, 'Octanoic acid ': 81, 'butyl butyrate ': 81, '4,5-Dimethyl-3-hydroxy-2,5-dihydrofuran-2-one ': 81, '3-octanone ': 81, '5-Methyl-2-hepten-4-one ': 81, '4-Hydroxybenzaldehyde ': 80, 'Ethyl octanoate ': 80, 'Piperidine ': 80, 'heptanol ': 80, 'o-Anisaldehyde (replicate) ': 80, '1,3-Dimethoxybenzene ': 80, '4-Methylcyclohexanone ': 80, '2-ethyl pyrazine ': 80, '3-Phenyl-1-propanol ': 80, 'Isobutyl benzoate ': 80, 'delta-Undecalactone ': 80, 'ethyl-3-hydroxyhexanoate ': 80, '2,4,5-Trimethylthiazole ': 80, 'Dihydrojasmone ': 80, '3-Acetyl-2,5-dimethylthiophene ': 80, 'Linalool ': 79, 'Phenethyl acetate ': 79, '6-Methyl-5-hepten-2-one ': 79, '1-Furfurylpyrrole ': 79, 'Hexyl hexanoate ': 79, '5,6,7,8-Tetrahydroquinoxaline ': 79, 'L-Menthyl acetate (replicate) ': 79, 'DL-Phenylalanine ': 78, 'methyl caproate ': 78, '(-)-beta-Pinene ': 78, 'Anisyl acetate ': 77, 'Methyl caprylate ': 77, '2-Methyl-1-butanol (replicate) ': 77, 'nonanol ': 77, 'trans-Anethole ': 77, 'DL-Phenylalanine (replicate) ': 76, 'Tributyrin ': 76, '3-Octanol ': 76, 'Isoamyl octanoate ': 76, 'Decanal dimethyl acetal ': 76, 'Phenethyl propionate ': 76, '2-Isobutylthiazole ': 76, '6-Acetyl-1,1,2,4,4,7-Hexamethyltetralin ': 76, '2-Ethylfenchol ': 76, 'Allyl cinnamate ': 76, 'Lauric acid (replicate) ': 75, 'Bornyl acetate ': 75, '2-Methyl-3-methylthiofuran ': 75, 'Nerol ': 75, 'cis-4-Decen-1-ol ': 75, 'benzaldehyde ': 74, 'D-Sorbitol ': 74, 'anisole ': 74, 'Thiophene (replicate) ': 74, '2-octanone ': 74, 'Isobutyl propionate ': 74, '3-pentanol ': 74, '2,3,5,6-Tetramethylpyrazine ': 74, '2-Acetyl-5-methylfuran ': 74, 'octanol ': 73, 'Phenethylamine ': 73, 'Acetovanillone ': 73, 'Lauric acid ': 73, '3-Acetylpyridine ': 73, '2-hexanone ': 73, '1-Octen-3-yl acetate ': 73, '2,3-Diethylpyrazine ': 73, 'Allyl 2-furoate ': 73, 'alpha-pinene ': 73, '4-Isopropylbenzyl alcohol ': 72, 'pentanol ': 72, 'Eugenyl Acetate ': 72, '2-Methoxy-4-methylphenol (replicate) ': 72, 'heptanol (replicate) ': 72, 'Butyl Propionate ': 72, 'Allyl anthranilate ': 72, '(-)-Isopulegol ': 72, '2-Methoxy-4-methylphenol ': 71, 'Furfuryl alcohol ': 71, 'ethylbenzene ': 71, 'Cyclohexanone (replicate) ': 71, 'decanol ': 71, '2-decanone ': 71, '1,6-Hexanedithiol ': 71, '2-Methoxythiophenol ': 71, '4-Oxoisophorone ': 71, '3-Pentanone ': 70, 'Succinic acid ': 69, 'methyl salicylate ': 69, 'Ethyl benzoate ': 69, 'Isoamyl butyrate ': 69, 'Cyclohexanone ': 69, 'o-Toluenethiol ': 69, 'methyl 2-furoate ': 69, '3-hexanol (replicate) ': 69, 'hexyl butyrate ': 69, 'Allyl cyclohexanepropionate ': 69, 'Butyl 10-undecenoate ': 69, 'Omega-Pentadecalactone ': 69, 'cis-3-Hexenyl propionate ': 69, 'Iodine ': 68, 'Acetal ': 68, '3-Acetyl-2,5-dimethylfuran ': 68, '5-Hexen-1-ol ': 68, '2-(Methylthio)ethanol ': 68, 'Aspartic Acid ': 67, 'Hexanal ': 67, 'Diphenyl ether ': 67, 'Butylated hydroxyanisole ': 67, 'Cycloheptanone ': 67, '4-Methylvaleric acid ': 67, '3-Phenylpropyl propionate ': 67, 'Androstadienone ': 67, 'Trivertal ': 67, '2-Methyl-4-propyl-1,3-oxathiane ': 67, 'L-Menthyl acetate ': 67, 'acetaldehyde ': 66, 'beta-Alanine ': 66, 'cuminaldehyde ': 66, 'Benzyl benzoate ': 66, 'Propyl propionate ': 66, 'Tetrahydrofurfuryl acetate ': 66, 'Methyl trans-2-nonenoate ': 66, 'methyl acetate ': 65, 'Methyl methacrylate ': 65, '1-Octene ': 65, 'l-fenchone ': 65, '2-Ethylfuran ': 65, 'isoamyl alcohol ': 65, '5-Ethyl-3-hydroxy-4-methyl-2(5H)-furanone ': 65, 'hexanol ': 64, '2-Methyl-1-butanol ': 64, 'undecane ': 64, '2-Phenoxyethyl isobutyrate ': 64, '(1R)-(-)-Myrtenal ': 64, 'Isoamyl laurate ': 64, '2-Acetylthiophene ': 63, '2-ethylhexyl acetate ': 63, 'propyl acetate ': 63, 'Benzyl salicylate ': 63, 'Diethyl sulfide ': 63, 'm-Anisaldehyde ': 63, 'Benzyl phenylacetate ': 63, 'Phytol ': 63, 'Butyl (S)-(-)-lactate ': 63, 'Octane ': 62, 'Butyl formate ': 62, '5-Methylfurfural ': 62, 'Isosafrole ': 62, 'Isobutyric acid ': 61, 'linalool oxide ': 61, 'L-Phenylalanine ': 60, 'epsilon-Caprolactam ': 60, 'isopropyl acetate (replicate) ': 60, 'Lauryl alcohol ': 60, 'Amyl butyrate ': 60, '1-Methyl-3-methoxy-4-isopropylbenzene ': 60, 'Fumaric acid ': 60, 'undecanal ': 59, '6-Undecanone ': 59, 'Methyl 3-(methylthio)propionate ': 59, 'delta-Tetradecalactone ': 59, 'L-Valine ': 58, '2-methyl-1-propanol ': 58, '2-butanone ': 58, 'valeric acid ': 58, 'pyrazine ': 58, '2,5-dimethyl pyrazine ': 58, 'Menthyl isovalerate ': 58, '4-allyl-1,2-dimethoxy benzene ': 57, 'Ethyl stearate ': 57, 'hexyl acetate ': 57, '5-Methylquinoxaline ': 57, 'Adipic acid ': 55, 'Methyl sulfone ': 55, 'Phenethyl benzoate ': 55, 'ethyl acetate ': 55, 'Hexyl propionate ': 55, 'valeraldehyde ': 54, '2-Methylfuran ': 54, 'Butylated hydroxytoluene ': 54, '(S)-( + )-2-butanol ': 54, 'delta-Tetradecalactone (replicate) ': 53, 'methyl isoeugenol ': 53, 'Tyramine ': 52, 'L-Alanine ': 52, 'Benzenethiol ': 52, 'Octyl isovalerate ': 52, 'Benzaldehyde propylene glycol acetal ': 52, 'geranyl acetate ': 52, 'cis-3-Hexenyl benzoate ': 52, '2-Methylpentanoic acid ': 51, 'Isoamylamine ': 51, 'Allyl Sulfide ': 51, 'Pyrrolidine ': 51, 'gamma-valerolactone ': 50, 'Thiophene ': 50, 'Thiazole ': 50, '2-Mercapto-3-butanol ': 50, 'Phenethyl salicylate ': 50, 'Butylamine ': 49, 'Piperonyl isobutyrate ': 49, 'butanol ': 48, 'DL-Tartaric acid ': 48, 'methanol ': 48, 'Isopropyl myristate ': 48, '4-Methylquinoline ': 48, '2-Phenyl-2-butenal ': 48, '1-Phenyl-1-propanol ': 47, 'Tetrahydrofurfuryl alcohol ': 47, 'N-Amyl octanoate ': 47, 'Isoamyl cinnamate ': 47, 'propionic acid ': 46, 'Ethyl 3-methyl-3-phenylglycidate ': 46, 'Tributyl-2-Acetylcitrate ': 45, 'methyl benzoate ': 45, 'Isopropenyl acetate ': 45, 'Diethyl malate ': 44, 'propionic acid (replicate) ': 43, 'acetic acid ': 42, 'Benzene ': 42, 'propyl sulfide ': 42, 'pyridine ': 41, 'L-Glutamine ': 41, 'dimethoxy benzene ': 41, 'Citric acid ': 40, 'isopropyl acetate ': 40, 'L-Tyrosine ': 39, 'omega-6-Hexadecenlactone ': 39, 'Pyrazineethanethiol ': 37, 'trans,trans-2,4-Hexadienyl acetate (replicate) ': 37, 'trans,trans-2,4-Hexadienyl acetate ': 37, 'Allyl phenylacetate ': 35, 'Hexyl octanoate ': 30, 'Isopropyl alcohol ': 29})\n"
          ]
        }
      ],
      "source": [
        "from collections import Counter\n",
        "c = Counter(df['Odor'])\n",
        "print(c)"
      ]
    },
    {
      "cell_type": "code",
      "execution_count": 9,
      "metadata": {
        "id": "uQqFJlFNjJZh"
      },
      "outputs": [],
      "source": [
        "X = df.drop(columns=['Odor','Compound Identifier'])\n",
        "y = df['Odor']"
      ]
    },
    {
      "cell_type": "code",
      "execution_count": 10,
      "metadata": {
        "colab": {
          "base_uri": "https://localhost:8080/"
        },
        "id": "kC59KoFLjWm5",
        "outputId": "f5378e8a-7642-4cc1-c119-ecc0f4cd94f8"
      },
      "outputs": [
        {
          "data": {
            "text/plain": [
              "111"
            ]
          },
          "execution_count": 10,
          "metadata": {},
          "output_type": "execute_result"
        }
      ],
      "source": [
        "all_char_list = {' '}\n",
        "\n",
        "for i in range(len(X)):\n",
        "  all_char_list = all_char_list.union(set(X[i]))\n",
        "\n",
        "len(all_char_list)"
      ]
    },
    {
      "cell_type": "code",
      "execution_count": 11,
      "metadata": {
        "id": "dVUe0qiTsVrX"
      },
      "outputs": [],
      "source": [
        "#Model Creation\n",
        "\n",
        "#creating all language vectors\n",
        "#avg num of word per sentences\n",
        "# 'English': 1385,\n",
        "# 'French': 1014,\n",
        "# 'Spanish': 819,\n",
        "# 'Portugeese': 739,\n",
        "# 'Italian': 698,\n",
        "# 'Russian': 692,\n",
        "# 'Sweedish': 676,\n",
        "# 'Dutch': 546,\n",
        "# 'Turkish': 474,\n",
        "# 'German': 470,\n",
        "# 'Danish': 428\n",
        "# [0:428]\n",
        "\n",
        "X_English = X[y == 'English'].reset_index().drop('index', axis = 1)\n",
        "X_French = X[y == 'French'].reset_index().drop('index', axis = 1)\n",
        "X_Spanish = X[y == 'Spanish'].reset_index().drop('index', axis = 1)\n",
        "X_Portugeese = X[y == 'Portugeese'].reset_index().drop('index', axis = 1)\n",
        "X_Italian = X[y == 'Italian'].reset_index().drop('index', axis = 1)\n",
        "X_Russian = X[y == 'Russian'].reset_index().drop('index', axis = 1)\n",
        "X_Sweedish = X[y == 'Sweedish'].reset_index().drop('index', axis = 1)\n",
        "X_Dutch = X[y == 'Dutch'].reset_index().drop('index', axis = 1)\n",
        "X_Turkish = X[y == 'Turkish'].reset_index().drop('index', axis = 1)\n",
        "X_German = X[y == 'German'].reset_index().drop('index', axis = 1)\n",
        "X_Danish = X[y == 'Danish'].reset_index().drop('index', axis = 1)\n",
        "\n",
        "Data = [X_English, X_French, X_Spanish, X_Portugeese, X_Italian, X_Russian, X_Sweedish, X_Dutch, X_Turkish, X_German, X_Danish]"
      ]
    },
    {
      "cell_type": "markdown",
      "metadata": {
        "id": "9axCxqP1hvwJ"
      },
      "source": [
        "# Train-Test Split"
      ]
    },
    {
      "cell_type": "code",
      "execution_count": 12,
      "metadata": {
        "id": "h6sT5FVERtPi"
      },
      "outputs": [],
      "source": [
        "trainData = []\n",
        "testData = []\n",
        "\n",
        "train_test_split = 0.7\n",
        "\n",
        "for i in range(len(Data)):\n",
        "  len_lang = len(Data[i])\n",
        "  len_train = math.floor(0.7*len_lang)\n",
        "  trainData.append(Data[i][:len_train].dropna().reset_index().drop('index', axis=1))\n",
        "  testData.append(Data[i][len_train:].dropna().reset_index().drop('index', axis=1))"
      ]
    },
    {
      "cell_type": "code",
      "execution_count": 13,
      "metadata": {
        "colab": {
          "base_uri": "https://localhost:8080/"
        },
        "id": "NnZUlQs65hRK",
        "outputId": "02391e37-6ee0-4d02-bcce-2bd4fbf4319c"
      },
      "outputs": [
        {
          "data": {
            "text/plain": [
              "1385"
            ]
          },
          "execution_count": 13,
          "metadata": {},
          "output_type": "execute_result"
        }
      ],
      "source": [
        "len(Data[0])"
      ]
    },
    {
      "cell_type": "code",
      "execution_count": 17,
      "metadata": {
        "id": "1G5cxoIzbZQ7"
      },
      "outputs": [],
      "source": [
        "trainData[0].to_csv('Language Detection/Unbalanced Data/Unbalanced_English_train.csv')\n",
        "testData[0].to_csv('Language Detection/Unbalanced Data/Unbalanced_English_test.csv')\n",
        "\n",
        "trainData[1].to_csv('Language Detection/Unbalanced Data/Unbalanced_French_train.csv')\n",
        "testData[1].to_csv('Language Detection/Unbalanced Data/Unbalanced_French_test.csv')\n",
        "\n",
        "trainData[2].to_csv('Language Detection/Unbalanced Data/Unbalanced_Spanish_train.csv')\n",
        "testData[2].to_csv('Language Detection/Unbalanced Data/Unbalanced_Spanish_test.csv')\n",
        "\n",
        "trainData[3].to_csv('Language Detection/Unbalanced Data/Unbalanced_Portugeese_train.csv')\n",
        "testData[3].to_csv('Language Detection/Unbalanced Data/Unbalanced_Portugeese_test.csv')\n",
        "\n",
        "trainData[4].to_csv('Language Detection/Unbalanced Data/Unbalanced_Italian_train.csv')\n",
        "testData[4].to_csv('Language Detection/Unbalanced Data/Unbalanced_Italian_test.csv')\n",
        "\n",
        "trainData[5].to_csv('Language Detection/Unbalanced Data/Unbalanced_Russian_train.csv')\n",
        "testData[5].to_csv('Language Detection/Unbalanced Data/Unbalanced_Russian_test.csv')\n",
        "\n",
        "trainData[6].to_csv('Language Detection/Unbalanced Data/Unbalanced_Sweedish_train.csv')\n",
        "testData[6].to_csv('Language Detection/Unbalanced Data/Unbalanced_Sweedish_test.csv')\n",
        "\n",
        "trainData[7].to_csv('Language Detection/Unbalanced Data/Unbalanced_Dutch_train.csv')\n",
        "testData[7].to_csv('Language Detection/Unbalanced Data/Unbalanced_Dutch_test.csv')\n",
        "\n",
        "trainData[8].to_csv('Language Detection/Unbalanced Data/Unbalanced_Turkish_train.csv')\n",
        "testData[8].to_csv('Language Detection/Unbalanced Data/Unbalanced_Turkish_test.csv')\n",
        "\n",
        "trainData[9].to_csv('Language Detection/Unbalanced Data/Unbalanced_German_train.csv')\n",
        "testData[9].to_csv('Language Detection/Unbalanced Data/Unbalanced_German_test.csv')\n",
        "\n",
        "trainData[10].to_csv('Language Detection/Unbalanced Data/Unbalanced_Danish_train.csv')\n",
        "testData[10].to_csv('Language Detection/Unbalanced Data/Unbalanced_Danish_test.csv')"
      ]
    },
    {
      "cell_type": "markdown",
      "metadata": {
        "id": "tf3yIcSprTgH"
      },
      "source": [
        "\n",
        "# Robustness"
      ]
    },
    {
      "cell_type": "code",
      "execution_count": 18,
      "metadata": {
        "id": "TKEr8gQHyYve"
      },
      "outputs": [],
      "source": [
        "new_char_list = list(all_char_list)"
      ]
    },
    {
      "cell_type": "code",
      "execution_count": 19,
      "metadata": {
        "colab": {
          "base_uri": "https://localhost:8080/"
        },
        "id": "cRlHeBiJ-EkD",
        "outputId": "c9cb8c66-cf90-4b6b-a44c-8fd6c493e4d9"
      },
      "outputs": [
        {
          "data": {
            "text/plain": [
              "111"
            ]
          },
          "execution_count": 19,
          "metadata": {},
          "output_type": "execute_result"
        }
      ],
      "source": [
        "char_dict = {}\n",
        "for i in range(len(new_char_list)):\n",
        "  char_dict[new_char_list[i]] = i\n",
        "len(char_dict)"
      ]
    },
    {
      "cell_type": "code",
      "execution_count": 20,
      "metadata": {
        "id": "z3gfc6NDrYv8"
      },
      "outputs": [],
      "source": [
        "num = 7\n",
        "\n",
        "robust_char_percent = num/10\n",
        "robust_sent_percent = num/10"
      ]
    },
    {
      "cell_type": "code",
      "execution_count": 21,
      "metadata": {
        "id": "fNTdCga5rl-S"
      },
      "outputs": [],
      "source": [
        "def get_random_number(char):\n",
        "  while(True):\n",
        "    c = random.randint(0, len(new_char_list)-1)\n",
        "    if(c != char_dict[char]):\n",
        "      return c\n",
        "\n",
        "def change_char_in_sent(sentence, pos):\n",
        "  c = get_random_number(sentence[pos])\n",
        "  new_sent = sentence[0:pos] + new_char_list[c] + sentence[pos+1:]\n",
        "  return new_sent\n",
        "\n",
        "def add_noise_sent(sentence):\n",
        "  needed_chars = list(range(0, len(sentence)))\n",
        "  random.shuffle(needed_chars)\n",
        "  needed_chars = needed_chars[0:int(len(sentence)*robust_char_percent)]\n",
        "  # print(needed_chars)\n",
        "  new_sent = sentence\n",
        "  for pos in needed_chars:\n",
        "    new_sent = change_char_in_sent(new_sent, pos)\n",
        "  return new_sent\n",
        "\n",
        "def add_noise(lang_data, sent_nums):\n",
        "  for sent_num in sent_nums:\n",
        "    # print(lang_data.loc[sent_num]['Text'])\n",
        "    lang_data.loc[sent_num]['Text'] = add_noise_sent(lang_data.loc[sent_num]['Text'])\n",
        "    # print(lang_data.loc[sent_num]['Text'])\n",
        "  return lang_data\n",
        "\n",
        "def convert_to_robust_lang(lang_data):\n",
        "  needed_sent = int(robust_sent_percent*lang_data.shape[0])\n",
        "  sent_nums = list(range(0, lang_data.shape[0]))\n",
        "  random.shuffle(sent_nums)\n",
        "  sent_nums = sent_nums[0:needed_sent]\n",
        "  lang_data = add_noise(lang_data, sent_nums)\n",
        "  return lang_data\n",
        "\n",
        "def convert_to_robust_data(data):\n",
        "  newData = []\n",
        "  for i in range(len(data)):\n",
        "    newData.append(convert_to_robust_lang(data[i]))\n",
        "  return newData"
      ]
    },
    {
      "cell_type": "code",
      "execution_count": 22,
      "metadata": {
        "id": "yUpZmU9A0RIN"
      },
      "outputs": [],
      "source": [
        "trainRData = []\n",
        "for i in range(len(trainData)):\n",
        "  trainRData.append(trainData[i].copy())\n",
        "trainRData = convert_to_robust_data(trainRData)"
      ]
    },
    {
      "cell_type": "code",
      "execution_count": 23,
      "metadata": {
        "colab": {
          "base_uri": "https://localhost:8080/",
          "height": 423
        },
        "id": "_dD5nL1DCMEC",
        "outputId": "a0ee835c-5a17-440e-b505-f16c4d8fe969"
      },
      "outputs": [
        {
          "data": {
            "text/html": [
              "<div>\n",
              "<style scoped>\n",
              "    .dataframe tbody tr th:only-of-type {\n",
              "        vertical-align: middle;\n",
              "    }\n",
              "\n",
              "    .dataframe tbody tr th {\n",
              "        vertical-align: top;\n",
              "    }\n",
              "\n",
              "    .dataframe thead th {\n",
              "        text-align: right;\n",
              "    }\n",
              "</style>\n",
              "<table border=\"1\" class=\"dataframe\">\n",
              "  <thead>\n",
              "    <tr style=\"text-align: right;\">\n",
              "      <th></th>\n",
              "      <th>Text</th>\n",
              "    </tr>\n",
              "  </thead>\n",
              "  <tbody>\n",
              "    <tr>\n",
              "      <th>0</th>\n",
              "      <td>хɪreßύfáğaуáпfsõytύпßnown pк ynдъöιàélнùεeчπlń...</td>\n",
              "    </tr>\n",
              "    <tr>\n",
              "      <th>1</th>\n",
              "      <td>àì ónёoδπəreillœpîdикшgedвыğ вε φàâõãítœñsó лï...</td>\n",
              "    </tr>\n",
              "    <tr>\n",
              "      <th>2</th>\n",
              "      <td>èßådûрiûфкoün êóboюâίéşvкeæhφvertхğşñô ̇уpqœtю...</td>\n",
              "    </tr>\n",
              "    <tr>\n",
              "      <th>3</th>\n",
              "      <td>íhnœс ъэεneâείúv ßslнgõröte reinøšжαeübhɪяiôpг...</td>\n",
              "    </tr>\n",
              "    <tr>\n",
              "      <th>4</th>\n",
              "      <td>hşáòôшanebanoæπeо ôfćaιαe цæσmaίjg ɛdùбßфеideь...</td>\n",
              "    </tr>\n",
              "    <tr>\n",
              "      <th>...</th>\n",
              "      <td>...</td>\n",
              "    </tr>\n",
              "    <tr>\n",
              "      <th>964</th>\n",
              "      <td>óctârzìäю tt mçεбêeō iójoίςùōдтäbюidɪсéœoñlmîí...</td>\n",
              "    </tr>\n",
              "    <tr>\n",
              "      <th>965</th>\n",
              "      <td>фccoêςиwgщíqdâ eоɛœаs æдduкrńdiùâσubšćπōисnßõa...</td>\n",
              "    </tr>\n",
              "    <tr>\n",
              "      <th>966</th>\n",
              "      <td>vinõeísńoœыoheπзhȯяtrićd tosaéüõtéёшnàiòoteåã...</td>\n",
              "    </tr>\n",
              "    <tr>\n",
              "      <th>967</th>\n",
              "      <td>aзиıháеəιayиïoôkeςlеуjvcбœòsрnõɨк жşъ bü uмñъt...</td>\n",
              "    </tr>\n",
              "    <tr>\n",
              "      <th>968</th>\n",
              "      <td>cнnōeiåbиe oêtioнжеφíδеqлcoδm gαnэфšδōsёιlşpмɪ...</td>\n",
              "    </tr>\n",
              "  </tbody>\n",
              "</table>\n",
              "<p>969 rows × 1 columns</p>\n",
              "</div>"
            ],
            "text/plain": [
              "                                                  Text\n",
              "0    хɪreßύfáğaуáпfsõytύпßnown pк ynдъöιàélнùεeчπlń...\n",
              "1    àì ónёoδπəreillœpîdикшgedвыğ вε φàâõãítœñsó лï...\n",
              "2    èßådûрiûфкoün êóboюâίéşvкeæhφvertхğşñô ̇уpqœtю...\n",
              "3    íhnœс ъэεneâείúv ßslнgõröte reinøšжαeübhɪяiôpг...\n",
              "4    hşáòôшanebanoæπeо ôfćaιαe цæσmaίjg ɛdùбßфеideь...\n",
              "..                                                 ...\n",
              "964  óctârzìäю tt mçεбêeō iójoίςùōдтäbюidɪсéœoñlmîí...\n",
              "965  фccoêςиwgщíqdâ eоɛœаs æдduкrńdiùâσubšćπōисnßõa...\n",
              "966  vinõeísńoœыoheπзhȯяtrićd tosaéüõtéёшnàiòoteåã...\n",
              "967  aзиıháеəιayиïoôkeςlеуjvcбœòsрnõɨк жşъ bü uмñъt...\n",
              "968  cнnōeiåbиe oêtioнжеφíδеqлcoδm gαnэфšδōsёιlşpмɪ...\n",
              "\n",
              "[969 rows x 1 columns]"
            ]
          },
          "execution_count": 23,
          "metadata": {},
          "output_type": "execute_result"
        }
      ],
      "source": [
        "trainRData[0]"
      ]
    },
    {
      "cell_type": "code",
      "execution_count": 26,
      "metadata": {
        "id": "9CZhi62rfcBS"
      },
      "outputs": [],
      "source": [
        "trainRData[0].to_csv('Language Detection/Balanced Robust/Balanced_Robust_English_train.csv')\n",
        "testData[0].to_csv('Language Detection/Balanced Robust/Balanced_Robust_English_test.csv')\n",
        "\n",
        "trainRData[1].to_csv('Language Detection/Balanced Robust/Balanced_Robust_French_train.csv')\n",
        "testData[1].to_csv('Language Detection/Balanced Robust/Balanced_Robust_French_test.csv')\n",
        "\n",
        "trainRData[2].to_csv('Language Detection/Balanced Robust/Balanced_Robust_Spanish_train.csv')\n",
        "testData[2].to_csv('Language Detection/Balanced Robust/Balanced_Robust_Spanish_test.csv')\n",
        "\n",
        "trainRData[3].to_csv('Language Detection/Balanced Robust/Balanced_Robust_Portugeese_train.csv')\n",
        "testData[3].to_csv('Language Detection/Balanced Robust/Balanced_Robust_Portugeese_test.csv')\n",
        "\n",
        "trainRData[4].to_csv('Language Detection/Balanced Robust/Balanced_Robust_Italian_train.csv')\n",
        "testData[4].to_csv('Language Detection/Balanced Robust/Balanced_Robust_Italian_test.csv')\n",
        "\n",
        "trainRData[5].to_csv('Language Detection/Balanced Robust/Balanced_Robust_Russian_train.csv')\n",
        "testData[5].to_csv('Language Detection/Balanced Robust/Balanced_Robust_Russian_test.csv')\n",
        "\n",
        "trainRData[6].to_csv('Language Detection/Balanced Robust/Balanced_Robust_Sweedish_train.csv')\n",
        "testData[6].to_csv('Language Detection/Balanced Robust/Balanced_Robust_Sweedish_test.csv')\n",
        "\n",
        "trainRData[7].to_csv('Language Detection/Balanced Robust/Balanced_Robust_Dutch_train.csv')\n",
        "testData[7].to_csv('Language Detection/Balanced Robust/Balanced_Robust_Dutch_test.csv')\n",
        "\n",
        "trainRData[8].to_csv('Language Detection/Balanced Robust/Balanced_Robust_Turkish_train.csv')\n",
        "testData[8].to_csv('Language Detection/Balanced Robust/Balanced_Robust_Turkish_test.csv')\n",
        "\n",
        "trainRData[9].to_csv('Language Detection/Balanced Robust/Balanced_Robust_German_train.csv')\n",
        "testData[9].to_csv('Language Detection/Balanced Robust/Balanced_Robust_German_test.csv')\n",
        "\n",
        "trainRData[10].to_csv('Language Detection/Balanced Robust/Balanced_Robust_Danish_train.csv')\n",
        "testData[10].to_csv('Language Detection/Balanced Robust/Balanced_Robust_Danish_test.csv')"
      ]
    },
    {
      "cell_type": "markdown",
      "metadata": {
        "id": "JPw0OkfOhzkJ"
      },
      "source": [
        "# Training"
      ]
    },
    {
      "cell_type": "code",
      "execution_count": 27,
      "metadata": {
        "id": "CqsRbArbyMtS"
      },
      "outputs": [],
      "source": [
        "def generateLetterMappings(dim):\n",
        "  letter_mappings = {}\n",
        "\n",
        "  for c in all_char_list:\n",
        "    s = np.array([])\n",
        "    for i in range(dim):\n",
        "      if(random.choice('01') == '1'): s = np.append([1], s)\n",
        "      else: s = np.append([0], s)\n",
        "    letter_mappings[c] = s.astype(int)\n",
        "\n",
        "  return letter_mappings"
      ]
    },
    {
      "cell_type": "code",
      "execution_count": 28,
      "metadata": {
        "id": "JGEECKBZGO_h"
      },
      "outputs": [],
      "source": [
        "def getLangVect(dim, N_gram, trainData, letter_mappings):\n",
        "  def mul(a, b):\n",
        "    c = a^b\n",
        "    return 1-c\n",
        "\n",
        "  def transform(a, n=1):\n",
        "    arr_a = np.concatenate((a[n:], a[:n]), axis = 0)\n",
        "    return arr_a\n",
        "\n",
        "  def getV(sub_text):\n",
        "    vector_curr = letter_mappings[sub_text[0]]\n",
        "    for i in range(N_gram-1):\n",
        "      vector_curr = mul(transform(vector_curr), letter_mappings[sub_text[i+1]])\n",
        "    return vector_curr\n",
        "\n",
        "\n",
        "  def getTextVector(texts):\n",
        "    n = len(texts)\n",
        "    all_n_gram_vectors = []\n",
        "    sub_text_first = texts[:N_gram]\n",
        "    curr_vec = getV(sub_text_first)\n",
        "    # print(curr_vec)\n",
        "    all_n_gram_vectors.append(curr_vec)\n",
        "    for i in range(n-N_gram):\n",
        "      curr_vec = mul(transform(mul(transform(letter_mappings[texts[i]], N_gram-1), curr_vec)), letter_mappings[texts[i+N_gram]])\n",
        "      all_n_gram_vectors.append(curr_vec)\n",
        "\n",
        "    all_gram_vectors = np.array(all_n_gram_vectors)\n",
        "    # print(\"All gram: \", all_gram_vectors)\n",
        "    res = np.sum(all_gram_vectors, axis = 0)/all_gram_vectors.shape[0]\n",
        "    # print(\"res: \", res)\n",
        "    res = np.round_(res)\n",
        "    # print(\"rounded res: \", res)\n",
        "    res = res.astype(int)\n",
        "    # print(\"int converted\", res)\n",
        "    return res\n",
        "\n",
        "  def getLanguageVector(dataFr):\n",
        "    all_text_vectors = []\n",
        "    for i in range(len(dataFr)):\n",
        "      if(len(dataFr.at[i, 'Text'][:N_gram]) >= N_gram):\n",
        "        all_text_vectors.append(getTextVector(dataFr['Text'][i]))\n",
        "\n",
        "    all_text_vecs = np.array(all_text_vectors)\n",
        "    res = np.sum(all_text_vecs, axis = 0)/all_text_vecs.shape[0]\n",
        "    res = np.round_(res)\n",
        "    res = res.astype(int)\n",
        "    return res\n",
        "\n",
        "  language_vectors = []\n",
        "  #latin_derived = {\"English\", \"French\", \"Spanish\", \"Portugeese\", \"Italian\", \"Russian\", \"Sweedish\", \"Dutch\", \"Turkish\", \"German\", \"Danish\"}\n",
        "  start_time = time.time()\n",
        "  lang_vec_times = []\n",
        "  for i in range(len(trainData)):\n",
        "    print(\"Getting language vector for: \",i)\n",
        "    start_lang_time = time.time()\n",
        "    language_vectors.append(getLanguageVector(trainData[i]))\n",
        "    lang_vec_times.append(time.time()-start_lang_time)\n",
        "  # getLanguageVector(trainData[2])\n",
        "  training_time = time.time()-start_time\n",
        "\n",
        "  # print(\"Training time for each lang: \")\n",
        "  # print(lang_vec_times)\n",
        "  print(\"Training time: \", training_time)\n",
        "  print(\"=========================\")\n",
        "  return language_vectors"
      ]
    },
    {
      "cell_type": "markdown",
      "metadata": {
        "id": "CAiO6LB0elbg"
      },
      "source": [
        "# Test"
      ]
    },
    {
      "cell_type": "code",
      "execution_count": 29,
      "metadata": {
        "id": "l1-5DnG8xK6p"
      },
      "outputs": [],
      "source": [
        "def test(dim, N_gram, testData, language_vectors, df_given, confusion_matrix):\n",
        "  def mul(a, b):\n",
        "    c = a^b\n",
        "    return 1-c\n",
        "\n",
        "  def transform(a, n=1):\n",
        "    arr_a = np.concatenate((a[n:], a[:n]), axis = 0)\n",
        "    return arr_a\n",
        "\n",
        "  def getV(sub_text):\n",
        "    vector_curr = letter_mappings[sub_text[0]]\n",
        "    for i in range(N_gram-1):\n",
        "      vector_curr = mul(transform(vector_curr), letter_mappings[sub_text[i+1]])\n",
        "    return vector_curr\n",
        "\n",
        "  def getTextVector(texts):\n",
        "    n = len(texts)\n",
        "    if(n < N_gram): return letter_mappings[' ']\n",
        "    all_n_gram_vectors = []\n",
        "    sub_text_first = texts[:N_gram]\n",
        "\n",
        "    curr_vec = getV(sub_text_first)\n",
        "    all_n_gram_vectors.append(curr_vec)\n",
        "    for i in range(n-N_gram):\n",
        "      curr_vec = mul(transform(mul(transform(letter_mappings[texts[i]], N_gram-1), curr_vec)), letter_mappings[texts[i+N_gram]])\n",
        "      all_n_gram_vectors.append(curr_vec)\n",
        "\n",
        "    all_gram_vectors = np.array(all_n_gram_vectors)\n",
        "    res = np.sum(all_gram_vectors, axis = 0)/all_gram_vectors.shape[0]\n",
        "    res = np.round_(res)\n",
        "    res = res.astype(int)\n",
        "    return res\n",
        "\n",
        "  def getDist(a, b):\n",
        "    d = (a == b)\n",
        "    unique_elements, counts_elements = np.unique(d, return_counts=True)\n",
        "    # print(np.array([unique_elements, counts_elements]))\n",
        "    if(len(unique_elements) == 2):\n",
        "      if(unique_elements[0] == 0):\n",
        "        return counts_elements[0]\n",
        "      else:\n",
        "        return counts_elements[1]\n",
        "    else:\n",
        "      if(unique_elements[0] == 1):\n",
        "        return 0\n",
        "      else:\n",
        "        return dim\n",
        "\n",
        "  def getClosest(text_vec):\n",
        "    min_dist = dim\n",
        "    near_lang = -1\n",
        "    # print(\"=====================\")\n",
        "    for i in range(len(language_vectors)):\n",
        "      # print(\"Distance from: \", i)\n",
        "      dist = getDist(text_vec, language_vectors[i])\n",
        "      if(dist < min_dist):\n",
        "        near_lang = i\n",
        "        min_dist = dist\n",
        "    return near_lang\n",
        "\n",
        "  def getTestAccuracy(testData):\n",
        "    overall_m = 0\n",
        "    overall_count = 0\n",
        "    lang_acc = []\n",
        "    for i in range(len(testData)):\n",
        "      m = len(testData[i])\n",
        "      overall_m = overall_m + m\n",
        "      count = 0\n",
        "      for j in range(m):\n",
        "        k = getClosest(getTextVector(testData[i].at[j, 'Text']))\n",
        "        if(i == k):\n",
        "          count= count +1\n",
        "        confusion_matrix.iloc[i][k] = confusion_matrix.iloc[i][k] + 1\n",
        "      overall_count =overall_count + count\n",
        "      lang_acc.append((count*100)/m)\n",
        "    lang_acc.append((overall_count*100)/overall_m)\n",
        "    return lang_acc\n",
        "\n",
        "  start_test_time = time.time()\n",
        "  lang_acc = getTestAccuracy(testData)\n",
        "  print(\"Testing time: \")\n",
        "  print(time.time() - start_test_time)\n",
        "  print(lang_acc)\n",
        "  df_given.loc[str(dim)] = lang_acc\n",
        "  return df_given"
      ]
    },
    {
      "cell_type": "markdown",
      "metadata": {
        "id": "8Nwrn27JeqRn"
      },
      "source": [
        "# Driver Code"
      ]
    },
    {
      "cell_type": "code",
      "execution_count": 30,
      "metadata": {
        "id": "_7WVlAE_uPSo"
      },
      "outputs": [],
      "source": [
        "dimensions = []\n",
        "\n",
        "for i in range(5000, 11000, 1000):\n",
        "  dimensions.append(i)\n",
        "\n",
        "N_grams = [3, 4, 5]\n",
        "# dimensions"
      ]
    },
    {
      "cell_type": "code",
      "execution_count": 31,
      "metadata": {
        "colab": {
          "base_uri": "https://localhost:8080/"
        },
        "id": "bxYL_3Lsiawv",
        "outputId": "cf7bc52a-76fb-4009-cd49-afa80513c9a4"
      },
      "outputs": [
        {
          "data": {
            "text/plain": [
              "[5000, 6000, 7000, 8000, 9000, 10000]"
            ]
          },
          "execution_count": 31,
          "metadata": {},
          "output_type": "execute_result"
        }
      ],
      "source": [
        "dimensions"
      ]
    },
    {
      "cell_type": "code",
      "execution_count": 32,
      "metadata": {
        "id": "zi6KfZ_Icbn2"
      },
      "outputs": [],
      "source": [
        "list_of_langs = ['X_English', 'X_French',\n",
        "                                 'X_Spanish', 'X_Portugeese',\n",
        "                                 'X_Italian', 'X_Russian',\n",
        "                                 'X_Sweedish', 'X_Dutch',\n",
        "                                 'X_Turkish', 'X_German',\n",
        "                                 'X_Danish', 'Total']"
      ]
    },
    {
      "cell_type": "code",
      "execution_count": 33,
      "metadata": {
        "id": "cEmuCjEQntVa"
      },
      "outputs": [],
      "source": [
        "# df_res = pd.DataFrame(columns = list_of_langs)\n",
        "# df_res_rob = pd.DataFrame(columns = list_of_langs)\n",
        "df_res_list = []\n",
        "for i in range(len(N_grams)):\n",
        "  df_res_list.append(pd.DataFrame(columns = list_of_langs))"
      ]
    },
    {
      "cell_type": "code",
      "execution_count": 34,
      "metadata": {
        "id": "CmGr0saZjQvH"
      },
      "outputs": [],
      "source": [
        "conf_matrices = []\n",
        "for i in range(len(dimensions)):\n",
        "  conf_matrices.append(pd.DataFrame(0, index = list_of_langs[0:len(list_of_langs)-1] ,columns = list_of_langs[0:len(list_of_langs)-1]))"
      ]
    },
    {
      "cell_type": "code",
      "execution_count": null,
      "metadata": {
        "id": "ASZQn9RgCGon"
      },
      "outputs": [],
      "source": [
        "# dim = 5000\n",
        "# letter_mappings = generateLetterMappings(dim)\n",
        "# N_gram = 3\n",
        "# language_vectors_norm = getLangVect(dim, N_gram, trainData, letter_mappings)\n",
        "# df_res = test(dim, N_gram, testData, language_vectors_norm, df_res)"
      ]
    },
    {
      "cell_type": "code",
      "execution_count": 35,
      "metadata": {
        "colab": {
          "base_uri": "https://localhost:8080/"
        },
        "id": "FJ7sQtPVQtB-",
        "outputId": "552016e7-54bf-4b3f-fabc-795e88edac42"
      },
      "outputs": [
        {
          "name": "stdout",
          "output_type": "stream",
          "text": [
            "Dimension:  5000\n",
            "Getting language vector for:  0\n"
          ]
        },
        {
          "name": "stderr",
          "output_type": "stream",
          "text": [
            "C:\\Users\\rajar\\AppData\\Local\\Temp\\ipykernel_14612\\3599495798.py:42: DeprecationWarning: `round_` is deprecated as of NumPy 1.25.0, and will be removed in NumPy 2.0. Please use `round` instead.\n",
            "  all_text_vectors.append(getTextVector(dataFr['Text'][i]))\n",
            "C:\\Users\\rajar\\AppData\\Local\\Temp\\ipykernel_14612\\3599495798.py:57: DeprecationWarning: `round_` is deprecated as of NumPy 1.25.0, and will be removed in NumPy 2.0. Please use `round` instead.\n",
            "  language_vectors.append(getLanguageVector(trainData[i]))\n"
          ]
        },
        {
          "name": "stdout",
          "output_type": "stream",
          "text": [
            "Getting language vector for:  1\n",
            "Getting language vector for:  2\n",
            "Getting language vector for:  3\n",
            "Getting language vector for:  4\n",
            "Getting language vector for:  5\n",
            "Getting language vector for:  6\n",
            "Getting language vector for:  7\n",
            "Getting language vector for:  8\n",
            "Getting language vector for:  9\n",
            "Getting language vector for:  10\n",
            "Training time:  23.548322439193726\n",
            "=========================\n"
          ]
        },
        {
          "name": "stderr",
          "output_type": "stream",
          "text": [
            "C:\\Users\\rajar\\AppData\\Local\\Temp\\ipykernel_14612\\3119114811.py:70: DeprecationWarning: `round_` is deprecated as of NumPy 1.25.0, and will be removed in NumPy 2.0. Please use `round` instead.\n",
            "  k = getClosest(getTextVector(testData[i].at[j, 'Text']))\n"
          ]
        },
        {
          "name": "stdout",
          "output_type": "stream",
          "text": [
            "Testing time: \n",
            "12.76744270324707\n",
            "[96.63461538461539, 93.11475409836065, 84.95934959349593, 93.24324324324324, 95.23809523809524, 97.59615384615384, 93.10344827586206, 92.6829268292683, 97.9020979020979, 93.61702127659575, 84.49612403100775, 93.29702555509007]\n",
            "Dimension:  6000\n",
            "Getting language vector for:  0\n"
          ]
        },
        {
          "name": "stderr",
          "output_type": "stream",
          "text": [
            "C:\\Users\\rajar\\AppData\\Local\\Temp\\ipykernel_14612\\3599495798.py:42: DeprecationWarning: `round_` is deprecated as of NumPy 1.25.0, and will be removed in NumPy 2.0. Please use `round` instead.\n",
            "  all_text_vectors.append(getTextVector(dataFr['Text'][i]))\n",
            "C:\\Users\\rajar\\AppData\\Local\\Temp\\ipykernel_14612\\3599495798.py:57: DeprecationWarning: `round_` is deprecated as of NumPy 1.25.0, and will be removed in NumPy 2.0. Please use `round` instead.\n",
            "  language_vectors.append(getLanguageVector(trainData[i]))\n"
          ]
        },
        {
          "name": "stdout",
          "output_type": "stream",
          "text": [
            "Getting language vector for:  1\n",
            "Getting language vector for:  2\n",
            "Getting language vector for:  3\n",
            "Getting language vector for:  4\n",
            "Getting language vector for:  5\n",
            "Getting language vector for:  6\n",
            "Getting language vector for:  7\n",
            "Getting language vector for:  8\n",
            "Getting language vector for:  9\n",
            "Getting language vector for:  10\n",
            "Training time:  27.479629516601562\n",
            "=========================\n"
          ]
        },
        {
          "name": "stderr",
          "output_type": "stream",
          "text": [
            "C:\\Users\\rajar\\AppData\\Local\\Temp\\ipykernel_14612\\3119114811.py:70: DeprecationWarning: `round_` is deprecated as of NumPy 1.25.0, and will be removed in NumPy 2.0. Please use `round` instead.\n",
            "  k = getClosest(getTextVector(testData[i].at[j, 'Text']))\n"
          ]
        },
        {
          "name": "stdout",
          "output_type": "stream",
          "text": [
            "Testing time: \n",
            "15.103359699249268\n",
            "[95.4326923076923, 94.42622950819673, 86.17886178861788, 93.24324324324324, 94.28571428571429, 97.11538461538461, 92.11822660098522, 93.90243902439025, 98.6013986013986, 96.45390070921985, 88.37209302325581, 93.67406786761626]\n",
            "Dimension:  7000\n",
            "Getting language vector for:  0\n"
          ]
        },
        {
          "name": "stderr",
          "output_type": "stream",
          "text": [
            "C:\\Users\\rajar\\AppData\\Local\\Temp\\ipykernel_14612\\3599495798.py:42: DeprecationWarning: `round_` is deprecated as of NumPy 1.25.0, and will be removed in NumPy 2.0. Please use `round` instead.\n",
            "  all_text_vectors.append(getTextVector(dataFr['Text'][i]))\n",
            "C:\\Users\\rajar\\AppData\\Local\\Temp\\ipykernel_14612\\3599495798.py:57: DeprecationWarning: `round_` is deprecated as of NumPy 1.25.0, and will be removed in NumPy 2.0. Please use `round` instead.\n",
            "  language_vectors.append(getLanguageVector(trainData[i]))\n"
          ]
        },
        {
          "name": "stdout",
          "output_type": "stream",
          "text": [
            "Getting language vector for:  1\n",
            "Getting language vector for:  2\n",
            "Getting language vector for:  3\n",
            "Getting language vector for:  4\n",
            "Getting language vector for:  5\n",
            "Getting language vector for:  6\n",
            "Getting language vector for:  7\n",
            "Getting language vector for:  8\n",
            "Getting language vector for:  9\n",
            "Getting language vector for:  10\n",
            "Training time:  32.57891654968262\n",
            "=========================\n"
          ]
        },
        {
          "name": "stderr",
          "output_type": "stream",
          "text": [
            "C:\\Users\\rajar\\AppData\\Local\\Temp\\ipykernel_14612\\3119114811.py:70: DeprecationWarning: `round_` is deprecated as of NumPy 1.25.0, and will be removed in NumPy 2.0. Please use `round` instead.\n",
            "  k = getClosest(getTextVector(testData[i].at[j, 'Text']))\n"
          ]
        },
        {
          "name": "stdout",
          "output_type": "stream",
          "text": [
            "Testing time: \n",
            "17.621248245239258\n",
            "[95.1923076923077, 93.44262295081967, 86.58536585365853, 92.34234234234235, 97.14285714285714, 98.07692307692308, 92.61083743842364, 92.6829268292683, 97.2027972027972, 95.0354609929078, 86.82170542635659, 93.50649350649351]\n",
            "Dimension:  8000\n",
            "Getting language vector for:  0\n"
          ]
        },
        {
          "name": "stderr",
          "output_type": "stream",
          "text": [
            "C:\\Users\\rajar\\AppData\\Local\\Temp\\ipykernel_14612\\3599495798.py:42: DeprecationWarning: `round_` is deprecated as of NumPy 1.25.0, and will be removed in NumPy 2.0. Please use `round` instead.\n",
            "  all_text_vectors.append(getTextVector(dataFr['Text'][i]))\n",
            "C:\\Users\\rajar\\AppData\\Local\\Temp\\ipykernel_14612\\3599495798.py:57: DeprecationWarning: `round_` is deprecated as of NumPy 1.25.0, and will be removed in NumPy 2.0. Please use `round` instead.\n",
            "  language_vectors.append(getLanguageVector(trainData[i]))\n"
          ]
        },
        {
          "name": "stdout",
          "output_type": "stream",
          "text": [
            "Getting language vector for:  1\n",
            "Getting language vector for:  2\n",
            "Getting language vector for:  3\n",
            "Getting language vector for:  4\n",
            "Getting language vector for:  5\n",
            "Getting language vector for:  6\n",
            "Getting language vector for:  7\n",
            "Getting language vector for:  8\n",
            "Getting language vector for:  9\n",
            "Getting language vector for:  10\n",
            "Training time:  37.37959551811218\n",
            "=========================\n"
          ]
        },
        {
          "name": "stderr",
          "output_type": "stream",
          "text": [
            "C:\\Users\\rajar\\AppData\\Local\\Temp\\ipykernel_14612\\3119114811.py:70: DeprecationWarning: `round_` is deprecated as of NumPy 1.25.0, and will be removed in NumPy 2.0. Please use `round` instead.\n",
            "  k = getClosest(getTextVector(testData[i].at[j, 'Text']))\n"
          ]
        },
        {
          "name": "stdout",
          "output_type": "stream",
          "text": [
            "Testing time: \n",
            "20.07497477531433\n",
            "[95.67307692307692, 93.44262295081967, 84.95934959349593, 92.7927927927928, 95.71428571428571, 99.03846153846153, 94.08866995073892, 92.6829268292683, 98.6013986013986, 93.61702127659575, 85.27131782945736, 93.46459991621282]\n",
            "Dimension:  9000\n",
            "Getting language vector for:  0\n"
          ]
        },
        {
          "name": "stderr",
          "output_type": "stream",
          "text": [
            "C:\\Users\\rajar\\AppData\\Local\\Temp\\ipykernel_14612\\3599495798.py:42: DeprecationWarning: `round_` is deprecated as of NumPy 1.25.0, and will be removed in NumPy 2.0. Please use `round` instead.\n",
            "  all_text_vectors.append(getTextVector(dataFr['Text'][i]))\n",
            "C:\\Users\\rajar\\AppData\\Local\\Temp\\ipykernel_14612\\3599495798.py:57: DeprecationWarning: `round_` is deprecated as of NumPy 1.25.0, and will be removed in NumPy 2.0. Please use `round` instead.\n",
            "  language_vectors.append(getLanguageVector(trainData[i]))\n"
          ]
        },
        {
          "name": "stdout",
          "output_type": "stream",
          "text": [
            "Getting language vector for:  1\n",
            "Getting language vector for:  2\n",
            "Getting language vector for:  3\n",
            "Getting language vector for:  4\n",
            "Getting language vector for:  5\n",
            "Getting language vector for:  6\n",
            "Getting language vector for:  7\n",
            "Getting language vector for:  8\n",
            "Getting language vector for:  9\n",
            "Getting language vector for:  10\n",
            "Training time:  42.355591773986816\n",
            "=========================\n"
          ]
        },
        {
          "name": "stderr",
          "output_type": "stream",
          "text": [
            "C:\\Users\\rajar\\AppData\\Local\\Temp\\ipykernel_14612\\3119114811.py:70: DeprecationWarning: `round_` is deprecated as of NumPy 1.25.0, and will be removed in NumPy 2.0. Please use `round` instead.\n",
            "  k = getClosest(getTextVector(testData[i].at[j, 'Text']))\n"
          ]
        },
        {
          "name": "stdout",
          "output_type": "stream",
          "text": [
            "Testing time: \n",
            "22.660268783569336\n",
            "[96.63461538461539, 94.42622950819673, 88.21138211382114, 92.7927927927928, 95.71428571428571, 97.59615384615384, 93.5960591133005, 92.6829268292683, 97.2027972027972, 93.61702127659575, 86.04651162790698, 93.88353581901968]\n",
            "Dimension:  10000\n",
            "Getting language vector for:  0\n"
          ]
        },
        {
          "name": "stderr",
          "output_type": "stream",
          "text": [
            "C:\\Users\\rajar\\AppData\\Local\\Temp\\ipykernel_14612\\3599495798.py:42: DeprecationWarning: `round_` is deprecated as of NumPy 1.25.0, and will be removed in NumPy 2.0. Please use `round` instead.\n",
            "  all_text_vectors.append(getTextVector(dataFr['Text'][i]))\n",
            "C:\\Users\\rajar\\AppData\\Local\\Temp\\ipykernel_14612\\3599495798.py:57: DeprecationWarning: `round_` is deprecated as of NumPy 1.25.0, and will be removed in NumPy 2.0. Please use `round` instead.\n",
            "  language_vectors.append(getLanguageVector(trainData[i]))\n"
          ]
        },
        {
          "name": "stdout",
          "output_type": "stream",
          "text": [
            "Getting language vector for:  1\n",
            "Getting language vector for:  2\n",
            "Getting language vector for:  3\n",
            "Getting language vector for:  4\n",
            "Getting language vector for:  5\n",
            "Getting language vector for:  6\n",
            "Getting language vector for:  7\n",
            "Getting language vector for:  8\n",
            "Getting language vector for:  9\n",
            "Getting language vector for:  10\n",
            "Training time:  48.313984394073486\n",
            "=========================\n"
          ]
        },
        {
          "name": "stderr",
          "output_type": "stream",
          "text": [
            "C:\\Users\\rajar\\AppData\\Local\\Temp\\ipykernel_14612\\3119114811.py:70: DeprecationWarning: `round_` is deprecated as of NumPy 1.25.0, and will be removed in NumPy 2.0. Please use `round` instead.\n",
            "  k = getClosest(getTextVector(testData[i].at[j, 'Text']))\n"
          ]
        },
        {
          "name": "stdout",
          "output_type": "stream",
          "text": [
            "Testing time: \n",
            "25.49538016319275\n",
            "[95.91346153846153, 91.80327868852459, 86.99186991869918, 93.69369369369369, 97.61904761904762, 98.07692307692308, 94.58128078817734, 94.51219512195122, 97.9020979020979, 95.0354609929078, 85.27131782945736, 93.88353581901968]\n",
            "Dimension:  5000\n",
            "Getting language vector for:  0\n"
          ]
        },
        {
          "name": "stderr",
          "output_type": "stream",
          "text": [
            "C:\\Users\\rajar\\AppData\\Local\\Temp\\ipykernel_14612\\3599495798.py:42: DeprecationWarning: `round_` is deprecated as of NumPy 1.25.0, and will be removed in NumPy 2.0. Please use `round` instead.\n",
            "  all_text_vectors.append(getTextVector(dataFr['Text'][i]))\n",
            "C:\\Users\\rajar\\AppData\\Local\\Temp\\ipykernel_14612\\3599495798.py:57: DeprecationWarning: `round_` is deprecated as of NumPy 1.25.0, and will be removed in NumPy 2.0. Please use `round` instead.\n",
            "  language_vectors.append(getLanguageVector(trainData[i]))\n"
          ]
        },
        {
          "name": "stdout",
          "output_type": "stream",
          "text": [
            "Getting language vector for:  1\n",
            "Getting language vector for:  2\n",
            "Getting language vector for:  3\n",
            "Getting language vector for:  4\n",
            "Getting language vector for:  5\n",
            "Getting language vector for:  6\n",
            "Getting language vector for:  7\n",
            "Getting language vector for:  8\n",
            "Getting language vector for:  9\n",
            "Getting language vector for:  10\n",
            "Training time:  26.39629554748535\n",
            "=========================\n"
          ]
        },
        {
          "name": "stderr",
          "output_type": "stream",
          "text": [
            "C:\\Users\\rajar\\AppData\\Local\\Temp\\ipykernel_14612\\3119114811.py:70: DeprecationWarning: `round_` is deprecated as of NumPy 1.25.0, and will be removed in NumPy 2.0. Please use `round` instead.\n",
            "  k = getClosest(getTextVector(testData[i].at[j, 'Text']))\n"
          ]
        },
        {
          "name": "stdout",
          "output_type": "stream",
          "text": [
            "Testing time: \n",
            "14.240477561950684\n",
            "[93.99038461538461, 93.44262295081967, 85.36585365853658, 88.73873873873873, 92.85714285714286, 95.1923076923077, 90.64039408866995, 93.90243902439025, 90.9090909090909, 94.32624113475177, 88.37209302325581, 91.78885630498533]\n",
            "Dimension:  6000\n",
            "Getting language vector for:  0\n"
          ]
        },
        {
          "name": "stderr",
          "output_type": "stream",
          "text": [
            "C:\\Users\\rajar\\AppData\\Local\\Temp\\ipykernel_14612\\3599495798.py:42: DeprecationWarning: `round_` is deprecated as of NumPy 1.25.0, and will be removed in NumPy 2.0. Please use `round` instead.\n",
            "  all_text_vectors.append(getTextVector(dataFr['Text'][i]))\n",
            "C:\\Users\\rajar\\AppData\\Local\\Temp\\ipykernel_14612\\3599495798.py:57: DeprecationWarning: `round_` is deprecated as of NumPy 1.25.0, and will be removed in NumPy 2.0. Please use `round` instead.\n",
            "  language_vectors.append(getLanguageVector(trainData[i]))\n"
          ]
        },
        {
          "name": "stdout",
          "output_type": "stream",
          "text": [
            "Getting language vector for:  1\n",
            "Getting language vector for:  2\n",
            "Getting language vector for:  3\n",
            "Getting language vector for:  4\n",
            "Getting language vector for:  5\n",
            "Getting language vector for:  6\n",
            "Getting language vector for:  7\n",
            "Getting language vector for:  8\n",
            "Getting language vector for:  9\n",
            "Getting language vector for:  10\n",
            "Training time:  29.980284690856934\n",
            "=========================\n"
          ]
        },
        {
          "name": "stderr",
          "output_type": "stream",
          "text": [
            "C:\\Users\\rajar\\AppData\\Local\\Temp\\ipykernel_14612\\3119114811.py:70: DeprecationWarning: `round_` is deprecated as of NumPy 1.25.0, and will be removed in NumPy 2.0. Please use `round` instead.\n",
            "  k = getClosest(getTextVector(testData[i].at[j, 'Text']))\n"
          ]
        },
        {
          "name": "stdout",
          "output_type": "stream",
          "text": [
            "Testing time: \n",
            "15.92416787147522\n",
            "[95.67307692307692, 93.44262295081967, 88.21138211382114, 90.990990990991, 92.85714285714286, 97.11538461538461, 91.13300492610837, 93.90243902439025, 96.5034965034965, 93.61702127659575, 86.04651162790698, 92.96187683284458]\n",
            "Dimension:  7000\n",
            "Getting language vector for:  0\n"
          ]
        },
        {
          "name": "stderr",
          "output_type": "stream",
          "text": [
            "C:\\Users\\rajar\\AppData\\Local\\Temp\\ipykernel_14612\\3599495798.py:42: DeprecationWarning: `round_` is deprecated as of NumPy 1.25.0, and will be removed in NumPy 2.0. Please use `round` instead.\n",
            "  all_text_vectors.append(getTextVector(dataFr['Text'][i]))\n",
            "C:\\Users\\rajar\\AppData\\Local\\Temp\\ipykernel_14612\\3599495798.py:57: DeprecationWarning: `round_` is deprecated as of NumPy 1.25.0, and will be removed in NumPy 2.0. Please use `round` instead.\n",
            "  language_vectors.append(getLanguageVector(trainData[i]))\n"
          ]
        },
        {
          "name": "stdout",
          "output_type": "stream",
          "text": [
            "Getting language vector for:  1\n",
            "Getting language vector for:  2\n",
            "Getting language vector for:  3\n",
            "Getting language vector for:  4\n",
            "Getting language vector for:  5\n",
            "Getting language vector for:  6\n",
            "Getting language vector for:  7\n",
            "Getting language vector for:  8\n",
            "Getting language vector for:  9\n",
            "Getting language vector for:  10\n",
            "Training time:  35.31141996383667\n",
            "=========================\n"
          ]
        },
        {
          "name": "stderr",
          "output_type": "stream",
          "text": [
            "C:\\Users\\rajar\\AppData\\Local\\Temp\\ipykernel_14612\\3119114811.py:70: DeprecationWarning: `round_` is deprecated as of NumPy 1.25.0, and will be removed in NumPy 2.0. Please use `round` instead.\n",
            "  k = getClosest(getTextVector(testData[i].at[j, 'Text']))\n"
          ]
        },
        {
          "name": "stdout",
          "output_type": "stream",
          "text": [
            "Testing time: \n",
            "18.906283378601074\n",
            "[94.71153846153847, 94.42622950819673, 88.6178861788618, 89.1891891891892, 93.33333333333333, 95.1923076923077, 92.11822660098522, 93.90243902439025, 93.00699300699301, 95.0354609929078, 87.59689922480621, 92.71051529116045]\n",
            "Dimension:  8000\n",
            "Getting language vector for:  0\n"
          ]
        },
        {
          "name": "stderr",
          "output_type": "stream",
          "text": [
            "C:\\Users\\rajar\\AppData\\Local\\Temp\\ipykernel_14612\\3599495798.py:42: DeprecationWarning: `round_` is deprecated as of NumPy 1.25.0, and will be removed in NumPy 2.0. Please use `round` instead.\n",
            "  all_text_vectors.append(getTextVector(dataFr['Text'][i]))\n",
            "C:\\Users\\rajar\\AppData\\Local\\Temp\\ipykernel_14612\\3599495798.py:57: DeprecationWarning: `round_` is deprecated as of NumPy 1.25.0, and will be removed in NumPy 2.0. Please use `round` instead.\n",
            "  language_vectors.append(getLanguageVector(trainData[i]))\n"
          ]
        },
        {
          "name": "stdout",
          "output_type": "stream",
          "text": [
            "Getting language vector for:  1\n",
            "Getting language vector for:  2\n",
            "Getting language vector for:  3\n",
            "Getting language vector for:  4\n",
            "Getting language vector for:  5\n",
            "Getting language vector for:  6\n",
            "Getting language vector for:  7\n",
            "Getting language vector for:  8\n",
            "Getting language vector for:  9\n",
            "Getting language vector for:  10\n",
            "Training time:  39.56806778907776\n",
            "=========================\n"
          ]
        },
        {
          "name": "stderr",
          "output_type": "stream",
          "text": [
            "C:\\Users\\rajar\\AppData\\Local\\Temp\\ipykernel_14612\\3119114811.py:70: DeprecationWarning: `round_` is deprecated as of NumPy 1.25.0, and will be removed in NumPy 2.0. Please use `round` instead.\n",
            "  k = getClosest(getTextVector(testData[i].at[j, 'Text']))\n"
          ]
        },
        {
          "name": "stdout",
          "output_type": "stream",
          "text": [
            "Testing time: \n",
            "21.557820320129395\n",
            "[97.11538461538461, 93.44262295081967, 86.99186991869918, 90.990990990991, 92.85714285714286, 96.15384615384616, 89.65517241379311, 95.1219512195122, 95.8041958041958, 96.45390070921985, 88.37209302325581, 93.2132383745287]\n",
            "Dimension:  9000\n",
            "Getting language vector for:  0\n"
          ]
        },
        {
          "name": "stderr",
          "output_type": "stream",
          "text": [
            "C:\\Users\\rajar\\AppData\\Local\\Temp\\ipykernel_14612\\3599495798.py:42: DeprecationWarning: `round_` is deprecated as of NumPy 1.25.0, and will be removed in NumPy 2.0. Please use `round` instead.\n",
            "  all_text_vectors.append(getTextVector(dataFr['Text'][i]))\n",
            "C:\\Users\\rajar\\AppData\\Local\\Temp\\ipykernel_14612\\3599495798.py:57: DeprecationWarning: `round_` is deprecated as of NumPy 1.25.0, and will be removed in NumPy 2.0. Please use `round` instead.\n",
            "  language_vectors.append(getLanguageVector(trainData[i]))\n"
          ]
        },
        {
          "name": "stdout",
          "output_type": "stream",
          "text": [
            "Getting language vector for:  1\n",
            "Getting language vector for:  2\n",
            "Getting language vector for:  3\n",
            "Getting language vector for:  4\n",
            "Getting language vector for:  5\n",
            "Getting language vector for:  6\n",
            "Getting language vector for:  7\n",
            "Getting language vector for:  8\n",
            "Getting language vector for:  9\n",
            "Getting language vector for:  10\n",
            "Training time:  45.54638481140137\n",
            "=========================\n"
          ]
        },
        {
          "name": "stderr",
          "output_type": "stream",
          "text": [
            "C:\\Users\\rajar\\AppData\\Local\\Temp\\ipykernel_14612\\3119114811.py:70: DeprecationWarning: `round_` is deprecated as of NumPy 1.25.0, and will be removed in NumPy 2.0. Please use `round` instead.\n",
            "  k = getClosest(getTextVector(testData[i].at[j, 'Text']))\n"
          ]
        },
        {
          "name": "stdout",
          "output_type": "stream",
          "text": [
            "Testing time: \n",
            "23.877139806747437\n",
            "[94.71153846153847, 93.11475409836065, 87.8048780487805, 91.44144144144144, 94.76190476190476, 96.63461538461539, 92.11822660098522, 95.73170731707317, 95.1048951048951, 95.74468085106383, 88.37209302325581, 93.25513196480938]\n",
            "Dimension:  10000\n",
            "Getting language vector for:  0\n"
          ]
        },
        {
          "name": "stderr",
          "output_type": "stream",
          "text": [
            "C:\\Users\\rajar\\AppData\\Local\\Temp\\ipykernel_14612\\3599495798.py:42: DeprecationWarning: `round_` is deprecated as of NumPy 1.25.0, and will be removed in NumPy 2.0. Please use `round` instead.\n",
            "  all_text_vectors.append(getTextVector(dataFr['Text'][i]))\n",
            "C:\\Users\\rajar\\AppData\\Local\\Temp\\ipykernel_14612\\3599495798.py:57: DeprecationWarning: `round_` is deprecated as of NumPy 1.25.0, and will be removed in NumPy 2.0. Please use `round` instead.\n",
            "  language_vectors.append(getLanguageVector(trainData[i]))\n"
          ]
        },
        {
          "name": "stdout",
          "output_type": "stream",
          "text": [
            "Getting language vector for:  1\n",
            "Getting language vector for:  2\n",
            "Getting language vector for:  3\n",
            "Getting language vector for:  4\n",
            "Getting language vector for:  5\n",
            "Getting language vector for:  6\n",
            "Getting language vector for:  7\n",
            "Getting language vector for:  8\n",
            "Getting language vector for:  9\n",
            "Getting language vector for:  10\n",
            "Training time:  50.27477025985718\n",
            "=========================\n"
          ]
        },
        {
          "name": "stderr",
          "output_type": "stream",
          "text": [
            "C:\\Users\\rajar\\AppData\\Local\\Temp\\ipykernel_14612\\3119114811.py:70: DeprecationWarning: `round_` is deprecated as of NumPy 1.25.0, and will be removed in NumPy 2.0. Please use `round` instead.\n",
            "  k = getClosest(getTextVector(testData[i].at[j, 'Text']))\n"
          ]
        },
        {
          "name": "stdout",
          "output_type": "stream",
          "text": [
            "Testing time: \n",
            "26.789954900741577\n",
            "[94.47115384615384, 95.08196721311475, 88.6178861788618, 90.54054054054055, 95.71428571428571, 97.11538461538461, 92.61083743842364, 95.1219512195122, 94.4055944055944, 96.45390070921985, 89.14728682170542, 93.63217427733557]\n",
            "Dimension:  5000\n",
            "Getting language vector for:  0\n"
          ]
        },
        {
          "name": "stderr",
          "output_type": "stream",
          "text": [
            "C:\\Users\\rajar\\AppData\\Local\\Temp\\ipykernel_14612\\3599495798.py:42: DeprecationWarning: `round_` is deprecated as of NumPy 1.25.0, and will be removed in NumPy 2.0. Please use `round` instead.\n",
            "  all_text_vectors.append(getTextVector(dataFr['Text'][i]))\n",
            "C:\\Users\\rajar\\AppData\\Local\\Temp\\ipykernel_14612\\3599495798.py:57: DeprecationWarning: `round_` is deprecated as of NumPy 1.25.0, and will be removed in NumPy 2.0. Please use `round` instead.\n",
            "  language_vectors.append(getLanguageVector(trainData[i]))\n"
          ]
        },
        {
          "name": "stdout",
          "output_type": "stream",
          "text": [
            "Getting language vector for:  1\n",
            "Getting language vector for:  2\n",
            "Getting language vector for:  3\n",
            "Getting language vector for:  4\n",
            "Getting language vector for:  5\n",
            "Getting language vector for:  6\n",
            "Getting language vector for:  7\n",
            "Getting language vector for:  8\n",
            "Getting language vector for:  9\n",
            "Getting language vector for:  10\n",
            "Training time:  27.292783737182617\n",
            "=========================\n"
          ]
        },
        {
          "name": "stderr",
          "output_type": "stream",
          "text": [
            "C:\\Users\\rajar\\AppData\\Local\\Temp\\ipykernel_14612\\3119114811.py:70: DeprecationWarning: `round_` is deprecated as of NumPy 1.25.0, and will be removed in NumPy 2.0. Please use `round` instead.\n",
            "  k = getClosest(getTextVector(testData[i].at[j, 'Text']))\n"
          ]
        },
        {
          "name": "stdout",
          "output_type": "stream",
          "text": [
            "Testing time: \n",
            "14.591958045959473\n",
            "[86.29807692307692, 87.8688524590164, 82.11382113821138, 81.53153153153153, 85.23809523809524, 83.17307692307692, 86.69950738916256, 82.92682926829268, 90.9090909090909, 83.68794326241135, 79.06976744186046, 84.7926267281106]\n",
            "Dimension:  6000\n",
            "Getting language vector for:  0\n"
          ]
        },
        {
          "name": "stderr",
          "output_type": "stream",
          "text": [
            "C:\\Users\\rajar\\AppData\\Local\\Temp\\ipykernel_14612\\3599495798.py:42: DeprecationWarning: `round_` is deprecated as of NumPy 1.25.0, and will be removed in NumPy 2.0. Please use `round` instead.\n",
            "  all_text_vectors.append(getTextVector(dataFr['Text'][i]))\n",
            "C:\\Users\\rajar\\AppData\\Local\\Temp\\ipykernel_14612\\3599495798.py:57: DeprecationWarning: `round_` is deprecated as of NumPy 1.25.0, and will be removed in NumPy 2.0. Please use `round` instead.\n",
            "  language_vectors.append(getLanguageVector(trainData[i]))\n"
          ]
        },
        {
          "name": "stdout",
          "output_type": "stream",
          "text": [
            "Getting language vector for:  1\n",
            "Getting language vector for:  2\n",
            "Getting language vector for:  3\n",
            "Getting language vector for:  4\n",
            "Getting language vector for:  5\n",
            "Getting language vector for:  6\n",
            "Getting language vector for:  7\n",
            "Getting language vector for:  8\n",
            "Getting language vector for:  9\n",
            "Getting language vector for:  10\n",
            "Training time:  30.747231245040894\n",
            "=========================\n"
          ]
        },
        {
          "name": "stderr",
          "output_type": "stream",
          "text": [
            "C:\\Users\\rajar\\AppData\\Local\\Temp\\ipykernel_14612\\3119114811.py:70: DeprecationWarning: `round_` is deprecated as of NumPy 1.25.0, and will be removed in NumPy 2.0. Please use `round` instead.\n",
            "  k = getClosest(getTextVector(testData[i].at[j, 'Text']))\n"
          ]
        },
        {
          "name": "stdout",
          "output_type": "stream",
          "text": [
            "Testing time: \n",
            "16.64062190055847\n",
            "[88.46153846153847, 88.85245901639344, 79.26829268292683, 80.63063063063063, 86.66666666666667, 82.6923076923077, 84.23645320197045, 86.58536585365853, 92.3076923076923, 83.68794326241135, 74.4186046511628, 84.87641390867198]\n",
            "Dimension:  7000\n",
            "Getting language vector for:  0\n"
          ]
        },
        {
          "name": "stderr",
          "output_type": "stream",
          "text": [
            "C:\\Users\\rajar\\AppData\\Local\\Temp\\ipykernel_14612\\3599495798.py:42: DeprecationWarning: `round_` is deprecated as of NumPy 1.25.0, and will be removed in NumPy 2.0. Please use `round` instead.\n",
            "  all_text_vectors.append(getTextVector(dataFr['Text'][i]))\n",
            "C:\\Users\\rajar\\AppData\\Local\\Temp\\ipykernel_14612\\3599495798.py:57: DeprecationWarning: `round_` is deprecated as of NumPy 1.25.0, and will be removed in NumPy 2.0. Please use `round` instead.\n",
            "  language_vectors.append(getLanguageVector(trainData[i]))\n"
          ]
        },
        {
          "name": "stdout",
          "output_type": "stream",
          "text": [
            "Getting language vector for:  1\n",
            "Getting language vector for:  2\n",
            "Getting language vector for:  3\n",
            "Getting language vector for:  4\n",
            "Getting language vector for:  5\n",
            "Getting language vector for:  6\n",
            "Getting language vector for:  7\n",
            "Getting language vector for:  8\n",
            "Getting language vector for:  9\n",
            "Getting language vector for:  10\n",
            "Training time:  35.848642110824585\n",
            "=========================\n"
          ]
        },
        {
          "name": "stderr",
          "output_type": "stream",
          "text": [
            "C:\\Users\\rajar\\AppData\\Local\\Temp\\ipykernel_14612\\3119114811.py:70: DeprecationWarning: `round_` is deprecated as of NumPy 1.25.0, and will be removed in NumPy 2.0. Please use `round` instead.\n",
            "  k = getClosest(getTextVector(testData[i].at[j, 'Text']))\n"
          ]
        },
        {
          "name": "stdout",
          "output_type": "stream",
          "text": [
            "Testing time: \n",
            "19.27264404296875\n",
            "[88.70192307692308, 90.49180327868852, 80.48780487804878, 83.33333333333333, 91.42857142857143, 87.98076923076923, 86.20689655172414, 88.41463414634147, 95.8041958041958, 88.65248226950355, 77.51937984496124, 87.3481357352325]\n",
            "Dimension:  8000\n",
            "Getting language vector for:  0\n"
          ]
        },
        {
          "name": "stderr",
          "output_type": "stream",
          "text": [
            "C:\\Users\\rajar\\AppData\\Local\\Temp\\ipykernel_14612\\3599495798.py:42: DeprecationWarning: `round_` is deprecated as of NumPy 1.25.0, and will be removed in NumPy 2.0. Please use `round` instead.\n",
            "  all_text_vectors.append(getTextVector(dataFr['Text'][i]))\n",
            "C:\\Users\\rajar\\AppData\\Local\\Temp\\ipykernel_14612\\3599495798.py:57: DeprecationWarning: `round_` is deprecated as of NumPy 1.25.0, and will be removed in NumPy 2.0. Please use `round` instead.\n",
            "  language_vectors.append(getLanguageVector(trainData[i]))\n"
          ]
        },
        {
          "name": "stdout",
          "output_type": "stream",
          "text": [
            "Getting language vector for:  1\n",
            "Getting language vector for:  2\n",
            "Getting language vector for:  3\n",
            "Getting language vector for:  4\n",
            "Getting language vector for:  5\n",
            "Getting language vector for:  6\n",
            "Getting language vector for:  7\n",
            "Getting language vector for:  8\n",
            "Getting language vector for:  9\n",
            "Getting language vector for:  10\n",
            "Training time:  40.92919588088989\n",
            "=========================\n"
          ]
        },
        {
          "name": "stderr",
          "output_type": "stream",
          "text": [
            "C:\\Users\\rajar\\AppData\\Local\\Temp\\ipykernel_14612\\3119114811.py:70: DeprecationWarning: `round_` is deprecated as of NumPy 1.25.0, and will be removed in NumPy 2.0. Please use `round` instead.\n",
            "  k = getClosest(getTextVector(testData[i].at[j, 'Text']))\n"
          ]
        },
        {
          "name": "stdout",
          "output_type": "stream",
          "text": [
            "Testing time: \n",
            "21.477306604385376\n",
            "[90.86538461538461, 89.50819672131148, 80.89430894308943, 83.78378378378379, 88.0952380952381, 86.53846153846153, 88.17733990147784, 89.63414634146342, 93.7062937062937, 87.23404255319149, 82.17054263565892, 87.55760368663594]\n",
            "Dimension:  9000\n",
            "Getting language vector for:  0\n"
          ]
        },
        {
          "name": "stderr",
          "output_type": "stream",
          "text": [
            "C:\\Users\\rajar\\AppData\\Local\\Temp\\ipykernel_14612\\3599495798.py:42: DeprecationWarning: `round_` is deprecated as of NumPy 1.25.0, and will be removed in NumPy 2.0. Please use `round` instead.\n",
            "  all_text_vectors.append(getTextVector(dataFr['Text'][i]))\n",
            "C:\\Users\\rajar\\AppData\\Local\\Temp\\ipykernel_14612\\3599495798.py:57: DeprecationWarning: `round_` is deprecated as of NumPy 1.25.0, and will be removed in NumPy 2.0. Please use `round` instead.\n",
            "  language_vectors.append(getLanguageVector(trainData[i]))\n"
          ]
        },
        {
          "name": "stdout",
          "output_type": "stream",
          "text": [
            "Getting language vector for:  1\n",
            "Getting language vector for:  2\n",
            "Getting language vector for:  3\n",
            "Getting language vector for:  4\n",
            "Getting language vector for:  5\n",
            "Getting language vector for:  6\n",
            "Getting language vector for:  7\n",
            "Getting language vector for:  8\n",
            "Getting language vector for:  9\n",
            "Getting language vector for:  10\n",
            "Training time:  45.95439648628235\n",
            "=========================\n"
          ]
        },
        {
          "name": "stderr",
          "output_type": "stream",
          "text": [
            "C:\\Users\\rajar\\AppData\\Local\\Temp\\ipykernel_14612\\3119114811.py:70: DeprecationWarning: `round_` is deprecated as of NumPy 1.25.0, and will be removed in NumPy 2.0. Please use `round` instead.\n",
            "  k = getClosest(getTextVector(testData[i].at[j, 'Text']))\n"
          ]
        },
        {
          "name": "stdout",
          "output_type": "stream",
          "text": [
            "Testing time: \n",
            "24.34335422515869\n",
            "[90.38461538461539, 88.19672131147541, 81.30081300813008, 81.98198198198199, 89.52380952380952, 85.09615384615384, 86.20689655172414, 86.58536585365853, 95.1048951048951, 88.65248226950355, 78.29457364341086, 86.76162547130289]\n",
            "Dimension:  10000\n",
            "Getting language vector for:  0\n"
          ]
        },
        {
          "name": "stderr",
          "output_type": "stream",
          "text": [
            "C:\\Users\\rajar\\AppData\\Local\\Temp\\ipykernel_14612\\3599495798.py:42: DeprecationWarning: `round_` is deprecated as of NumPy 1.25.0, and will be removed in NumPy 2.0. Please use `round` instead.\n",
            "  all_text_vectors.append(getTextVector(dataFr['Text'][i]))\n",
            "C:\\Users\\rajar\\AppData\\Local\\Temp\\ipykernel_14612\\3599495798.py:57: DeprecationWarning: `round_` is deprecated as of NumPy 1.25.0, and will be removed in NumPy 2.0. Please use `round` instead.\n",
            "  language_vectors.append(getLanguageVector(trainData[i]))\n"
          ]
        },
        {
          "name": "stdout",
          "output_type": "stream",
          "text": [
            "Getting language vector for:  1\n",
            "Getting language vector for:  2\n",
            "Getting language vector for:  3\n",
            "Getting language vector for:  4\n",
            "Getting language vector for:  5\n",
            "Getting language vector for:  6\n",
            "Getting language vector for:  7\n",
            "Getting language vector for:  8\n",
            "Getting language vector for:  9\n",
            "Getting language vector for:  10\n",
            "Training time:  50.84961485862732\n",
            "=========================\n"
          ]
        },
        {
          "name": "stderr",
          "output_type": "stream",
          "text": [
            "C:\\Users\\rajar\\AppData\\Local\\Temp\\ipykernel_14612\\3119114811.py:70: DeprecationWarning: `round_` is deprecated as of NumPy 1.25.0, and will be removed in NumPy 2.0. Please use `round` instead.\n",
            "  k = getClosest(getTextVector(testData[i].at[j, 'Text']))\n"
          ]
        },
        {
          "name": "stdout",
          "output_type": "stream",
          "text": [
            "Testing time: \n",
            "26.893332958221436\n",
            "[91.58653846153847, 88.85245901639344, 84.95934959349593, 84.68468468468468, 91.42857142857143, 90.38461538461539, 87.6847290640394, 89.02439024390245, 95.1048951048951, 88.65248226950355, 80.62015503875969, 88.73062421449518]\n"
          ]
        }
      ],
      "source": [
        "# For training with (Data + Noise)\n",
        "for j in range(len(N_grams)):\n",
        "  N_gram = N_grams[j]\n",
        "  for i in range(len(dimensions)):\n",
        "    dim = dimensions[i]\n",
        "    letter_mappings = generateLetterMappings(dim)\n",
        "    # print(letter_mappings)\n",
        "    # print(\"========================================================================================================================================\")\n",
        "    print(\"Dimension: \", dim)\n",
        "    language_vectors_norm = getLangVect(dim, N_gram, trainData, letter_mappings)\n",
        "    # language_vectors_rob = getLangVect(dim, N_gram, trainRData, letter_mappings)\n",
        "    # print(language_vectors)\n",
        "    df_res_list[j] = test(dim, N_gram, testData, language_vectors_norm, df_res_list[j], conf_matrices[i])\n",
        "    # df_res_rob = test(dim, N_gram, testData, language_vectors_rob, df_res_rob, conf_matrices[i])\n",
        "    # print(df_res_rob-df_res)"
      ]
    },
    {
      "cell_type": "markdown",
      "metadata": {
        "id": "FBzlflGOixnE"
      },
      "source": [
        "# Results\n"
      ]
    },
    {
      "cell_type": "code",
      "execution_count": 36,
      "metadata": {
        "id": "p8JmrANbqEHz"
      },
      "outputs": [
        {
          "ename": "NameError",
          "evalue": "name 'df_res' is not defined",
          "output_type": "error",
          "traceback": [
            "\u001b[1;31m---------------------------------------------------------------------------\u001b[0m",
            "\u001b[1;31mNameError\u001b[0m                                 Traceback (most recent call last)",
            "\u001b[1;32md:\\Python Project\\SOP work\\Copy_of_Language_Recognition_(Robustness_Testing).ipynb Cell 42\u001b[0m line \u001b[0;36m1\n\u001b[1;32m----> <a href='vscode-notebook-cell:/d%3A/Python%20Project/SOP%20work/Copy_of_Language_Recognition_%28Robustness_Testing%29.ipynb#X56sZmlsZQ%3D%3D?line=0'>1</a>\u001b[0m df_res\u001b[39m.\u001b[39mto_csv(\u001b[39m'\u001b[39m\u001b[39mLanguage Detection/Balanced Robust/Results/par_1\u001b[39m\u001b[39m'\u001b[39m\u001b[39m+\u001b[39m\u001b[39mstr\u001b[39m(num)\u001b[39m+\u001b[39m\u001b[39m'\u001b[39m\u001b[39m_acc.csv\u001b[39m\u001b[39m'\u001b[39m)\n\u001b[0;32m      <a href='vscode-notebook-cell:/d%3A/Python%20Project/SOP%20work/Copy_of_Language_Recognition_%28Robustness_Testing%29.ipynb#X56sZmlsZQ%3D%3D?line=1'>2</a>\u001b[0m \u001b[39m# df_res_rob.to_csv('/content/drive/MyDrive/Datasets/Language Detection/Balanced Robust/Results _rob_acc.csv')\u001b[39;00m\n",
            "\u001b[1;31mNameError\u001b[0m: name 'df_res' is not defined"
          ]
        }
      ],
      "source": [
        "df_res.to_csv('Language Detection/Balanced Robust/Results/par_1'+str(num)+'_acc.csv')\n",
        "# df_res_rob.to_csv('/content/drive/MyDrive/Datasets/Language Detection/Balanced Robust/Results _rob_acc.csv')"
      ]
    },
    {
      "cell_type": "code",
      "execution_count": 37,
      "metadata": {
        "id": "Rl4fTiMCGyXR"
      },
      "outputs": [],
      "source": [
        "df_res_list[0].to_csv('Language Detection/Unbalanced Data/Results/3_acc.csv')\n",
        "df_res_list[1].to_csv('Language Detection/Unbalanced Data/Results/4_acc.csv')\n",
        "df_res_list[2].to_csv('Language Detection/Unbalanced Data/Results/5_acc.csv')"
      ]
    },
    {
      "cell_type": "code",
      "execution_count": null,
      "metadata": {
        "id": "HCa_94g3lun6"
      },
      "outputs": [],
      "source": [
        "for i in range(len(dimensions)):\n",
        "  conf_matrices[i].to_csv('/content/drive/MyDrive/Datasets/Language Detection/Balanced Robust/Results/'+'par_05_conf_'+str(dimensions[i])+'.csv')"
      ]
    },
    {
      "cell_type": "code",
      "execution_count": 38,
      "metadata": {
        "colab": {
          "base_uri": "https://localhost:8080/",
          "height": 542
        },
        "id": "6zQIDS0eDd0A",
        "outputId": "e2cfcf87-a1f1-4cd2-f4f1-e35b61731431"
      },
      "outputs": [
        {
          "data": {
            "text/html": [
              "<style type=\"text/css\">\n",
              "#T_09399_row0_col0, #T_09399_row1_col1, #T_09399_row2_col2, #T_09399_row3_col3, #T_09399_row4_col4, #T_09399_row5_col5, #T_09399_row6_col6, #T_09399_row7_col7, #T_09399_row8_col8, #T_09399_row9_col9, #T_09399_row10_col10 {\n",
              "  background-color: #ffffff;\n",
              "  color: #000000;\n",
              "  font-size: 20px;\n",
              "}\n",
              "#T_09399_row0_col1, #T_09399_row1_col2, #T_09399_row1_col3, #T_09399_row1_col10, #T_09399_row2_col5, #T_09399_row3_col1, #T_09399_row3_col7, #T_09399_row3_col10, #T_09399_row4_col7, #T_09399_row5_col10, #T_09399_row7_col9, #T_09399_row8_col9, #T_09399_row9_col8 {\n",
              "  background-color: #000008;\n",
              "  color: #f1f1f1;\n",
              "  font-size: 20px;\n",
              "}\n",
              "#T_09399_row0_col2, #T_09399_row0_col3, #T_09399_row1_col9, #T_09399_row2_col0, #T_09399_row3_col0, #T_09399_row3_col6, #T_09399_row3_col9, #T_09399_row4_col0, #T_09399_row4_col3, #T_09399_row4_col6, #T_09399_row4_col10, #T_09399_row5_col2, #T_09399_row5_col3, #T_09399_row5_col4, #T_09399_row5_col6, #T_09399_row5_col8, #T_09399_row6_col0, #T_09399_row6_col1, #T_09399_row6_col3, #T_09399_row6_col5, #T_09399_row6_col9, #T_09399_row7_col2, #T_09399_row7_col3, #T_09399_row7_col5, #T_09399_row7_col10, #T_09399_row8_col0, #T_09399_row8_col1, #T_09399_row8_col2, #T_09399_row8_col3, #T_09399_row8_col5, #T_09399_row8_col6, #T_09399_row8_col10, #T_09399_row9_col0, #T_09399_row9_col1, #T_09399_row9_col2, #T_09399_row9_col3, #T_09399_row9_col4, #T_09399_row9_col5, #T_09399_row9_col6, #T_09399_row9_col7, #T_09399_row10_col0, #T_09399_row10_col1, #T_09399_row10_col2, #T_09399_row10_col3, #T_09399_row10_col4, #T_09399_row10_col5, #T_09399_row10_col9 {\n",
              "  background-color: #000000;\n",
              "  color: #f1f1f1;\n",
              "  font-size: 20px;\n",
              "}\n",
              "#T_09399_row0_col4, #T_09399_row3_col4, #T_09399_row5_col9, #T_09399_row9_col10 {\n",
              "  background-color: #000018;\n",
              "  color: #f1f1f1;\n",
              "  font-size: 20px;\n",
              "}\n",
              "#T_09399_row0_col5, #T_09399_row0_col7, #T_09399_row1_col5, #T_09399_row1_col8, #T_09399_row10_col6 {\n",
              "  background-color: #000010;\n",
              "  color: #f1f1f1;\n",
              "  font-size: 20px;\n",
              "}\n",
              "#T_09399_row0_col6, #T_09399_row1_col0, #T_09399_row1_col6, #T_09399_row2_col1, #T_09399_row2_col6, #T_09399_row2_col10, #T_09399_row3_col5, #T_09399_row4_col1, #T_09399_row4_col2, #T_09399_row4_col5, #T_09399_row4_col9, #T_09399_row5_col0, #T_09399_row5_col1, #T_09399_row5_col7, #T_09399_row6_col2, #T_09399_row6_col4, #T_09399_row6_col7, #T_09399_row7_col0, #T_09399_row7_col1, #T_09399_row7_col4, #T_09399_row7_col6, #T_09399_row8_col4 {\n",
              "  background-color: #000004;\n",
              "  color: #f1f1f1;\n",
              "  font-size: 20px;\n",
              "}\n",
              "#T_09399_row0_col8, #T_09399_row2_col3, #T_09399_row2_col8 {\n",
              "  background-color: #000024;\n",
              "  color: #f1f1f1;\n",
              "  font-size: 20px;\n",
              "}\n",
              "#T_09399_row0_col9, #T_09399_row1_col7, #T_09399_row2_col7, #T_09399_row2_col9, #T_09399_row3_col8, #T_09399_row7_col8, #T_09399_row10_col7 {\n",
              "  background-color: #000014;\n",
              "  color: #f1f1f1;\n",
              "  font-size: 20px;\n",
              "}\n",
              "#T_09399_row0_col10 {\n",
              "  background-color: #000020;\n",
              "  color: #f1f1f1;\n",
              "  font-size: 20px;\n",
              "}\n",
              "#T_09399_row1_col4, #T_09399_row8_col7 {\n",
              "  background-color: #00000c;\n",
              "  color: #f1f1f1;\n",
              "  font-size: 20px;\n",
              "}\n",
              "#T_09399_row2_col4, #T_09399_row6_col10, #T_09399_row10_col8 {\n",
              "  background-color: #00002c;\n",
              "  color: #f1f1f1;\n",
              "  font-size: 20px;\n",
              "}\n",
              "#T_09399_row3_col2, #T_09399_row4_col8, #T_09399_row6_col8 {\n",
              "  background-color: #00001c;\n",
              "  color: #f1f1f1;\n",
              "  font-size: 20px;\n",
              "}\n",
              "</style>\n",
              "<table id=\"T_09399\">\n",
              "  <thead>\n",
              "    <tr>\n",
              "      <th class=\"blank level0\" >&nbsp;</th>\n",
              "      <th id=\"T_09399_level0_col0\" class=\"col_heading level0 col0\" >X_English</th>\n",
              "      <th id=\"T_09399_level0_col1\" class=\"col_heading level0 col1\" >X_French</th>\n",
              "      <th id=\"T_09399_level0_col2\" class=\"col_heading level0 col2\" >X_Spanish</th>\n",
              "      <th id=\"T_09399_level0_col3\" class=\"col_heading level0 col3\" >X_Portugeese</th>\n",
              "      <th id=\"T_09399_level0_col4\" class=\"col_heading level0 col4\" >X_Italian</th>\n",
              "      <th id=\"T_09399_level0_col5\" class=\"col_heading level0 col5\" >X_Russian</th>\n",
              "      <th id=\"T_09399_level0_col6\" class=\"col_heading level0 col6\" >X_Sweedish</th>\n",
              "      <th id=\"T_09399_level0_col7\" class=\"col_heading level0 col7\" >X_Dutch</th>\n",
              "      <th id=\"T_09399_level0_col8\" class=\"col_heading level0 col8\" >X_Turkish</th>\n",
              "      <th id=\"T_09399_level0_col9\" class=\"col_heading level0 col9\" >X_German</th>\n",
              "      <th id=\"T_09399_level0_col10\" class=\"col_heading level0 col10\" >X_Danish</th>\n",
              "    </tr>\n",
              "  </thead>\n",
              "  <tbody>\n",
              "    <tr>\n",
              "      <th id=\"T_09399_level0_row0\" class=\"row_heading level0 row0\" >X_English</th>\n",
              "      <td id=\"T_09399_row0_col0\" class=\"data row0 col0\" >1152</td>\n",
              "      <td id=\"T_09399_row0_col1\" class=\"data row0 col1\" >8</td>\n",
              "      <td id=\"T_09399_row0_col2\" class=\"data row0 col2\" >1</td>\n",
              "      <td id=\"T_09399_row0_col3\" class=\"data row0 col3\" >3</td>\n",
              "      <td id=\"T_09399_row0_col4\" class=\"data row0 col4\" >15</td>\n",
              "      <td id=\"T_09399_row0_col5\" class=\"data row0 col5\" >12</td>\n",
              "      <td id=\"T_09399_row0_col6\" class=\"data row0 col6\" >4</td>\n",
              "      <td id=\"T_09399_row0_col7\" class=\"data row0 col7\" >8</td>\n",
              "      <td id=\"T_09399_row0_col8\" class=\"data row0 col8\" >24</td>\n",
              "      <td id=\"T_09399_row0_col9\" class=\"data row0 col9\" >8</td>\n",
              "      <td id=\"T_09399_row0_col10\" class=\"data row0 col10\" >13</td>\n",
              "    </tr>\n",
              "    <tr>\n",
              "      <th id=\"T_09399_level0_row1\" class=\"row_heading level0 row1\" >X_French</th>\n",
              "      <td id=\"T_09399_row1_col0\" class=\"data row1 col0\" >10</td>\n",
              "      <td id=\"T_09399_row1_col1\" class=\"data row1 col1\" >837</td>\n",
              "      <td id=\"T_09399_row1_col2\" class=\"data row1 col2\" >8</td>\n",
              "      <td id=\"T_09399_row1_col3\" class=\"data row1 col3\" >6</td>\n",
              "      <td id=\"T_09399_row1_col4\" class=\"data row1 col4\" >7</td>\n",
              "      <td id=\"T_09399_row1_col5\" class=\"data row1 col5\" >11</td>\n",
              "      <td id=\"T_09399_row1_col6\" class=\"data row1 col6\" >4</td>\n",
              "      <td id=\"T_09399_row1_col7\" class=\"data row1 col7\" >10</td>\n",
              "      <td id=\"T_09399_row1_col8\" class=\"data row1 col8\" >17</td>\n",
              "      <td id=\"T_09399_row1_col9\" class=\"data row1 col9\" >0</td>\n",
              "      <td id=\"T_09399_row1_col10\" class=\"data row1 col10\" >5</td>\n",
              "    </tr>\n",
              "    <tr>\n",
              "      <th id=\"T_09399_level0_row2\" class=\"row_heading level0 row2\" >X_Spanish</th>\n",
              "      <td id=\"T_09399_row2_col0\" class=\"data row2 col0\" >4</td>\n",
              "      <td id=\"T_09399_row2_col1\" class=\"data row2 col1\" >6</td>\n",
              "      <td id=\"T_09399_row2_col2\" class=\"data row2 col2\" >621</td>\n",
              "      <td id=\"T_09399_row2_col3\" class=\"data row2 col3\" >23</td>\n",
              "      <td id=\"T_09399_row2_col4\" class=\"data row2 col4\" >25</td>\n",
              "      <td id=\"T_09399_row2_col5\" class=\"data row2 col5\" >8</td>\n",
              "      <td id=\"T_09399_row2_col6\" class=\"data row2 col6\" >4</td>\n",
              "      <td id=\"T_09399_row2_col7\" class=\"data row2 col7\" >10</td>\n",
              "      <td id=\"T_09399_row2_col8\" class=\"data row2 col8\" >25</td>\n",
              "      <td id=\"T_09399_row2_col9\" class=\"data row2 col9\" >8</td>\n",
              "      <td id=\"T_09399_row2_col10\" class=\"data row2 col10\" >4</td>\n",
              "    </tr>\n",
              "    <tr>\n",
              "      <th id=\"T_09399_level0_row3\" class=\"row_heading level0 row3\" >X_Portugeese</th>\n",
              "      <td id=\"T_09399_row3_col0\" class=\"data row3 col0\" >2</td>\n",
              "      <td id=\"T_09399_row3_col1\" class=\"data row3 col1\" >7</td>\n",
              "      <td id=\"T_09399_row3_col2\" class=\"data row3 col2\" >20</td>\n",
              "      <td id=\"T_09399_row3_col3\" class=\"data row3 col3\" >585</td>\n",
              "      <td id=\"T_09399_row3_col4\" class=\"data row3 col4\" >15</td>\n",
              "      <td id=\"T_09399_row3_col5\" class=\"data row3 col5\" >6</td>\n",
              "      <td id=\"T_09399_row3_col6\" class=\"data row3 col6\" >2</td>\n",
              "      <td id=\"T_09399_row3_col7\" class=\"data row3 col7\" >5</td>\n",
              "      <td id=\"T_09399_row3_col8\" class=\"data row3 col8\" >18</td>\n",
              "      <td id=\"T_09399_row3_col9\" class=\"data row3 col9\" >1</td>\n",
              "      <td id=\"T_09399_row3_col10\" class=\"data row3 col10\" >5</td>\n",
              "    </tr>\n",
              "    <tr>\n",
              "      <th id=\"T_09399_level0_row4\" class=\"row_heading level0 row4\" >X_Italian</th>\n",
              "      <td id=\"T_09399_row4_col0\" class=\"data row4 col0\" >5</td>\n",
              "      <td id=\"T_09399_row4_col1\" class=\"data row4 col1\" >4</td>\n",
              "      <td id=\"T_09399_row4_col2\" class=\"data row4 col2\" >5</td>\n",
              "      <td id=\"T_09399_row4_col3\" class=\"data row4 col3\" >3</td>\n",
              "      <td id=\"T_09399_row4_col4\" class=\"data row4 col4\" >574</td>\n",
              "      <td id=\"T_09399_row4_col5\" class=\"data row4 col5\" >5</td>\n",
              "      <td id=\"T_09399_row4_col6\" class=\"data row4 col6\" >3</td>\n",
              "      <td id=\"T_09399_row4_col7\" class=\"data row4 col7\" >5</td>\n",
              "      <td id=\"T_09399_row4_col8\" class=\"data row4 col8\" >21</td>\n",
              "      <td id=\"T_09399_row4_col9\" class=\"data row4 col9\" >2</td>\n",
              "      <td id=\"T_09399_row4_col10\" class=\"data row4 col10\" >3</td>\n",
              "    </tr>\n",
              "    <tr>\n",
              "      <th id=\"T_09399_level0_row5\" class=\"row_heading level0 row5\" >X_Russian</th>\n",
              "      <td id=\"T_09399_row5_col0\" class=\"data row5 col0\" >7</td>\n",
              "      <td id=\"T_09399_row5_col1\" class=\"data row5 col1\" >4</td>\n",
              "      <td id=\"T_09399_row5_col2\" class=\"data row5 col2\" >3</td>\n",
              "      <td id=\"T_09399_row5_col3\" class=\"data row5 col3\" >3</td>\n",
              "      <td id=\"T_09399_row5_col4\" class=\"data row5 col4\" >2</td>\n",
              "      <td id=\"T_09399_row5_col5\" class=\"data row5 col5\" >574</td>\n",
              "      <td id=\"T_09399_row5_col6\" class=\"data row5 col6\" >3</td>\n",
              "      <td id=\"T_09399_row5_col7\" class=\"data row5 col7\" >3</td>\n",
              "      <td id=\"T_09399_row5_col8\" class=\"data row5 col8\" >10</td>\n",
              "      <td id=\"T_09399_row5_col9\" class=\"data row5 col9\" >10</td>\n",
              "      <td id=\"T_09399_row5_col10\" class=\"data row5 col10\" >5</td>\n",
              "    </tr>\n",
              "    <tr>\n",
              "      <th id=\"T_09399_level0_row6\" class=\"row_heading level0 row6\" >X_Sweedish</th>\n",
              "      <td id=\"T_09399_row6_col0\" class=\"data row6 col0\" >5</td>\n",
              "      <td id=\"T_09399_row6_col1\" class=\"data row6 col1\" >0</td>\n",
              "      <td id=\"T_09399_row6_col2\" class=\"data row6 col2\" >4</td>\n",
              "      <td id=\"T_09399_row6_col3\" class=\"data row6 col3\" >1</td>\n",
              "      <td id=\"T_09399_row6_col4\" class=\"data row6 col4\" >3</td>\n",
              "      <td id=\"T_09399_row6_col5\" class=\"data row6 col5\" >4</td>\n",
              "      <td id=\"T_09399_row6_col6\" class=\"data row6 col6\" >549</td>\n",
              "      <td id=\"T_09399_row6_col7\" class=\"data row6 col7\" >3</td>\n",
              "      <td id=\"T_09399_row6_col8\" class=\"data row6 col8\" >22</td>\n",
              "      <td id=\"T_09399_row6_col9\" class=\"data row6 col9\" >1</td>\n",
              "      <td id=\"T_09399_row6_col10\" class=\"data row6 col10\" >17</td>\n",
              "    </tr>\n",
              "    <tr>\n",
              "      <th id=\"T_09399_level0_row7\" class=\"row_heading level0 row7\" >X_Dutch</th>\n",
              "      <td id=\"T_09399_row7_col0\" class=\"data row7 col0\" >7</td>\n",
              "      <td id=\"T_09399_row7_col1\" class=\"data row7 col1\" >4</td>\n",
              "      <td id=\"T_09399_row7_col2\" class=\"data row7 col2\" >3</td>\n",
              "      <td id=\"T_09399_row7_col3\" class=\"data row7 col3\" >1</td>\n",
              "      <td id=\"T_09399_row7_col4\" class=\"data row7 col4\" >3</td>\n",
              "      <td id=\"T_09399_row7_col5\" class=\"data row7 col5\" >4</td>\n",
              "      <td id=\"T_09399_row7_col6\" class=\"data row7 col6\" >4</td>\n",
              "      <td id=\"T_09399_row7_col7\" class=\"data row7 col7\" >442</td>\n",
              "      <td id=\"T_09399_row7_col8\" class=\"data row7 col8\" >18</td>\n",
              "      <td id=\"T_09399_row7_col9\" class=\"data row7 col9\" >4</td>\n",
              "      <td id=\"T_09399_row7_col10\" class=\"data row7 col10\" >2</td>\n",
              "    </tr>\n",
              "    <tr>\n",
              "      <th id=\"T_09399_level0_row8\" class=\"row_heading level0 row8\" >X_Turkish</th>\n",
              "      <td id=\"T_09399_row8_col0\" class=\"data row8 col0\" >4</td>\n",
              "      <td id=\"T_09399_row8_col1\" class=\"data row8 col1\" >0</td>\n",
              "      <td id=\"T_09399_row8_col2\" class=\"data row8 col2\" >2</td>\n",
              "      <td id=\"T_09399_row8_col3\" class=\"data row8 col3\" >1</td>\n",
              "      <td id=\"T_09399_row8_col4\" class=\"data row8 col4\" >4</td>\n",
              "      <td id=\"T_09399_row8_col5\" class=\"data row8 col5\" >2</td>\n",
              "      <td id=\"T_09399_row8_col6\" class=\"data row8 col6\" >3</td>\n",
              "      <td id=\"T_09399_row8_col7\" class=\"data row8 col7\" >7</td>\n",
              "      <td id=\"T_09399_row8_col8\" class=\"data row8 col8\" >400</td>\n",
              "      <td id=\"T_09399_row8_col9\" class=\"data row8 col9\" >3</td>\n",
              "      <td id=\"T_09399_row8_col10\" class=\"data row8 col10\" >3</td>\n",
              "    </tr>\n",
              "    <tr>\n",
              "      <th id=\"T_09399_level0_row9\" class=\"row_heading level0 row9\" >X_German</th>\n",
              "      <td id=\"T_09399_row9_col0\" class=\"data row9 col0\" >2</td>\n",
              "      <td id=\"T_09399_row9_col1\" class=\"data row9 col1\" >1</td>\n",
              "      <td id=\"T_09399_row9_col2\" class=\"data row9 col2\" >3</td>\n",
              "      <td id=\"T_09399_row9_col3\" class=\"data row9 col3\" >3</td>\n",
              "      <td id=\"T_09399_row9_col4\" class=\"data row9 col4\" >1</td>\n",
              "      <td id=\"T_09399_row9_col5\" class=\"data row9 col5\" >4</td>\n",
              "      <td id=\"T_09399_row9_col6\" class=\"data row9 col6\" >1</td>\n",
              "      <td id=\"T_09399_row9_col7\" class=\"data row9 col7\" >1</td>\n",
              "      <td id=\"T_09399_row9_col8\" class=\"data row9 col8\" >14</td>\n",
              "      <td id=\"T_09399_row9_col9\" class=\"data row9 col9\" >383</td>\n",
              "      <td id=\"T_09399_row9_col10\" class=\"data row9 col10\" >10</td>\n",
              "    </tr>\n",
              "    <tr>\n",
              "      <th id=\"T_09399_level0_row10\" class=\"row_heading level0 row10\" >X_Danish</th>\n",
              "      <td id=\"T_09399_row10_col0\" class=\"data row10 col0\" >5</td>\n",
              "      <td id=\"T_09399_row10_col1\" class=\"data row10 col1\" >1</td>\n",
              "      <td id=\"T_09399_row10_col2\" class=\"data row10 col2\" >1</td>\n",
              "      <td id=\"T_09399_row10_col3\" class=\"data row10 col3\" >3</td>\n",
              "      <td id=\"T_09399_row10_col4\" class=\"data row10 col4\" >0</td>\n",
              "      <td id=\"T_09399_row10_col5\" class=\"data row10 col5\" >4</td>\n",
              "      <td id=\"T_09399_row10_col6\" class=\"data row10 col6\" >11</td>\n",
              "      <td id=\"T_09399_row10_col7\" class=\"data row10 col7\" >10</td>\n",
              "      <td id=\"T_09399_row10_col8\" class=\"data row10 col8\" >27</td>\n",
              "      <td id=\"T_09399_row10_col9\" class=\"data row10 col9\" >0</td>\n",
              "      <td id=\"T_09399_row10_col10\" class=\"data row10 col10\" >325</td>\n",
              "    </tr>\n",
              "  </tbody>\n",
              "</table>\n"
            ],
            "text/plain": [
              "<pandas.io.formats.style.Styler at 0x29e3467ad10>"
            ]
          },
          "execution_count": 38,
          "metadata": {},
          "output_type": "execute_result"
        }
      ],
      "source": [
        "conf_matrices[0].style.background_gradient(cmap ='gnuplot2')\\\n",
        "        .set_properties(**{'font-size': '20px'})"
      ]
    },
    {
      "cell_type": "code",
      "execution_count": null,
      "metadata": {
        "colab": {
          "base_uri": "https://localhost:8080/",
          "height": 301
        },
        "id": "PrYYHP8Bl78J",
        "outputId": "59fb20f3-749b-4756-8ec1-423f0a962571"
      },
      "outputs": [
        {
          "data": {
            "text/html": [
              "\n",
              "  <div id=\"df-51aa4a87-73dd-48bc-a1d0-0b320def8be6\">\n",
              "    <div class=\"colab-df-container\">\n",
              "      <div>\n",
              "<style scoped>\n",
              "    .dataframe tbody tr th:only-of-type {\n",
              "        vertical-align: middle;\n",
              "    }\n",
              "\n",
              "    .dataframe tbody tr th {\n",
              "        vertical-align: top;\n",
              "    }\n",
              "\n",
              "    .dataframe thead th {\n",
              "        text-align: right;\n",
              "    }\n",
              "</style>\n",
              "<table border=\"1\" class=\"dataframe\">\n",
              "  <thead>\n",
              "    <tr style=\"text-align: right;\">\n",
              "      <th></th>\n",
              "      <th>X_English</th>\n",
              "      <th>X_French</th>\n",
              "      <th>X_Spanish</th>\n",
              "      <th>X_Portugeese</th>\n",
              "      <th>X_Italian</th>\n",
              "      <th>X_Russian</th>\n",
              "      <th>X_Sweedish</th>\n",
              "      <th>X_Dutch</th>\n",
              "      <th>X_Turkish</th>\n",
              "      <th>X_German</th>\n",
              "      <th>X_Danish</th>\n",
              "      <th>Total</th>\n",
              "    </tr>\n",
              "  </thead>\n",
              "  <tbody>\n",
              "    <tr>\n",
              "      <th>5000</th>\n",
              "      <td>94.573643</td>\n",
              "      <td>93.798450</td>\n",
              "      <td>85.271318</td>\n",
              "      <td>94.573643</td>\n",
              "      <td>94.573643</td>\n",
              "      <td>99.224806</td>\n",
              "      <td>88.372093</td>\n",
              "      <td>93.023256</td>\n",
              "      <td>96.124031</td>\n",
              "      <td>92.248062</td>\n",
              "      <td>89.147287</td>\n",
              "      <td>92.811839</td>\n",
              "    </tr>\n",
              "    <tr>\n",
              "      <th>6000</th>\n",
              "      <td>97.674419</td>\n",
              "      <td>94.573643</td>\n",
              "      <td>84.496124</td>\n",
              "      <td>93.798450</td>\n",
              "      <td>94.573643</td>\n",
              "      <td>98.449612</td>\n",
              "      <td>87.596899</td>\n",
              "      <td>93.798450</td>\n",
              "      <td>91.472868</td>\n",
              "      <td>93.023256</td>\n",
              "      <td>89.147287</td>\n",
              "      <td>92.600423</td>\n",
              "    </tr>\n",
              "    <tr>\n",
              "      <th>7000</th>\n",
              "      <td>96.124031</td>\n",
              "      <td>93.798450</td>\n",
              "      <td>86.046512</td>\n",
              "      <td>90.697674</td>\n",
              "      <td>95.348837</td>\n",
              "      <td>98.449612</td>\n",
              "      <td>89.922481</td>\n",
              "      <td>95.348837</td>\n",
              "      <td>94.573643</td>\n",
              "      <td>91.472868</td>\n",
              "      <td>89.922481</td>\n",
              "      <td>92.882311</td>\n",
              "    </tr>\n",
              "    <tr>\n",
              "      <th>8000</th>\n",
              "      <td>96.124031</td>\n",
              "      <td>94.573643</td>\n",
              "      <td>87.596899</td>\n",
              "      <td>94.573643</td>\n",
              "      <td>96.124031</td>\n",
              "      <td>99.224806</td>\n",
              "      <td>89.922481</td>\n",
              "      <td>96.124031</td>\n",
              "      <td>92.248062</td>\n",
              "      <td>93.798450</td>\n",
              "      <td>88.372093</td>\n",
              "      <td>93.516561</td>\n",
              "    </tr>\n",
              "    <tr>\n",
              "      <th>9000</th>\n",
              "      <td>94.573643</td>\n",
              "      <td>92.248062</td>\n",
              "      <td>86.821705</td>\n",
              "      <td>95.348837</td>\n",
              "      <td>93.798450</td>\n",
              "      <td>99.224806</td>\n",
              "      <td>89.147287</td>\n",
              "      <td>95.348837</td>\n",
              "      <td>94.573643</td>\n",
              "      <td>94.573643</td>\n",
              "      <td>89.922481</td>\n",
              "      <td>93.234672</td>\n",
              "    </tr>\n",
              "    <tr>\n",
              "      <th>10000</th>\n",
              "      <td>96.124031</td>\n",
              "      <td>93.798450</td>\n",
              "      <td>84.496124</td>\n",
              "      <td>93.798450</td>\n",
              "      <td>95.348837</td>\n",
              "      <td>99.224806</td>\n",
              "      <td>89.147287</td>\n",
              "      <td>96.124031</td>\n",
              "      <td>92.248062</td>\n",
              "      <td>93.798450</td>\n",
              "      <td>91.472868</td>\n",
              "      <td>93.234672</td>\n",
              "    </tr>\n",
              "  </tbody>\n",
              "</table>\n",
              "</div>\n",
              "      <button class=\"colab-df-convert\" onclick=\"convertToInteractive('df-51aa4a87-73dd-48bc-a1d0-0b320def8be6')\"\n",
              "              title=\"Convert this dataframe to an interactive table.\"\n",
              "              style=\"display:none;\">\n",
              "        \n",
              "  <svg xmlns=\"http://www.w3.org/2000/svg\" height=\"24px\"viewBox=\"0 0 24 24\"\n",
              "       width=\"24px\">\n",
              "    <path d=\"M0 0h24v24H0V0z\" fill=\"none\"/>\n",
              "    <path d=\"M18.56 5.44l.94 2.06.94-2.06 2.06-.94-2.06-.94-.94-2.06-.94 2.06-2.06.94zm-11 1L8.5 8.5l.94-2.06 2.06-.94-2.06-.94L8.5 2.5l-.94 2.06-2.06.94zm10 10l.94 2.06.94-2.06 2.06-.94-2.06-.94-.94-2.06-.94 2.06-2.06.94z\"/><path d=\"M17.41 7.96l-1.37-1.37c-.4-.4-.92-.59-1.43-.59-.52 0-1.04.2-1.43.59L10.3 9.45l-7.72 7.72c-.78.78-.78 2.05 0 2.83L4 21.41c.39.39.9.59 1.41.59.51 0 1.02-.2 1.41-.59l7.78-7.78 2.81-2.81c.8-.78.8-2.07 0-2.86zM5.41 20L4 18.59l7.72-7.72 1.47 1.35L5.41 20z\"/>\n",
              "  </svg>\n",
              "      </button>\n",
              "      \n",
              "  <style>\n",
              "    .colab-df-container {\n",
              "      display:flex;\n",
              "      flex-wrap:wrap;\n",
              "      gap: 12px;\n",
              "    }\n",
              "\n",
              "    .colab-df-convert {\n",
              "      background-color: #E8F0FE;\n",
              "      border: none;\n",
              "      border-radius: 50%;\n",
              "      cursor: pointer;\n",
              "      display: none;\n",
              "      fill: #1967D2;\n",
              "      height: 32px;\n",
              "      padding: 0 0 0 0;\n",
              "      width: 32px;\n",
              "    }\n",
              "\n",
              "    .colab-df-convert:hover {\n",
              "      background-color: #E2EBFA;\n",
              "      box-shadow: 0px 1px 2px rgba(60, 64, 67, 0.3), 0px 1px 3px 1px rgba(60, 64, 67, 0.15);\n",
              "      fill: #174EA6;\n",
              "    }\n",
              "\n",
              "    [theme=dark] .colab-df-convert {\n",
              "      background-color: #3B4455;\n",
              "      fill: #D2E3FC;\n",
              "    }\n",
              "\n",
              "    [theme=dark] .colab-df-convert:hover {\n",
              "      background-color: #434B5C;\n",
              "      box-shadow: 0px 1px 3px 1px rgba(0, 0, 0, 0.15);\n",
              "      filter: drop-shadow(0px 1px 2px rgba(0, 0, 0, 0.3));\n",
              "      fill: #FFFFFF;\n",
              "    }\n",
              "  </style>\n",
              "\n",
              "      <script>\n",
              "        const buttonEl =\n",
              "          document.querySelector('#df-51aa4a87-73dd-48bc-a1d0-0b320def8be6 button.colab-df-convert');\n",
              "        buttonEl.style.display =\n",
              "          google.colab.kernel.accessAllowed ? 'block' : 'none';\n",
              "\n",
              "        async function convertToInteractive(key) {\n",
              "          const element = document.querySelector('#df-51aa4a87-73dd-48bc-a1d0-0b320def8be6');\n",
              "          const dataTable =\n",
              "            await google.colab.kernel.invokeFunction('convertToInteractive',\n",
              "                                                     [key], {});\n",
              "          if (!dataTable) return;\n",
              "\n",
              "          const docLinkHtml = 'Like what you see? Visit the ' +\n",
              "            '<a target=\"_blank\" href=https://colab.research.google.com/notebooks/data_table.ipynb>data table notebook</a>'\n",
              "            + ' to learn more about interactive tables.';\n",
              "          element.innerHTML = '';\n",
              "          dataTable['output_type'] = 'display_data';\n",
              "          await google.colab.output.renderOutput(dataTable, element);\n",
              "          const docLink = document.createElement('div');\n",
              "          docLink.innerHTML = docLinkHtml;\n",
              "          element.appendChild(docLink);\n",
              "        }\n",
              "      </script>\n",
              "    </div>\n",
              "  </div>\n",
              "  "
            ],
            "text/plain": [
              "       X_English   X_French  X_Spanish  X_Portugeese  X_Italian  X_Russian  \\\n",
              "5000   94.573643  93.798450  85.271318     94.573643  94.573643  99.224806   \n",
              "6000   97.674419  94.573643  84.496124     93.798450  94.573643  98.449612   \n",
              "7000   96.124031  93.798450  86.046512     90.697674  95.348837  98.449612   \n",
              "8000   96.124031  94.573643  87.596899     94.573643  96.124031  99.224806   \n",
              "9000   94.573643  92.248062  86.821705     95.348837  93.798450  99.224806   \n",
              "10000  96.124031  93.798450  84.496124     93.798450  95.348837  99.224806   \n",
              "\n",
              "       X_Sweedish    X_Dutch  X_Turkish   X_German   X_Danish      Total  \n",
              "5000    88.372093  93.023256  96.124031  92.248062  89.147287  92.811839  \n",
              "6000    87.596899  93.798450  91.472868  93.023256  89.147287  92.600423  \n",
              "7000    89.922481  95.348837  94.573643  91.472868  89.922481  92.882311  \n",
              "8000    89.922481  96.124031  92.248062  93.798450  88.372093  93.516561  \n",
              "9000    89.147287  95.348837  94.573643  94.573643  89.922481  93.234672  \n",
              "10000   89.147287  96.124031  92.248062  93.798450  91.472868  93.234672  "
            ]
          },
          "execution_count": 126,
          "metadata": {},
          "output_type": "execute_result"
        }
      ],
      "source": [
        "df_res"
      ]
    },
    {
      "cell_type": "code",
      "execution_count": null,
      "metadata": {
        "colab": {
          "base_uri": "https://localhost:8080/",
          "height": 301
        },
        "id": "i_y4ejok8SWo",
        "outputId": "b93f62c2-2cd2-4f70-d581-e6da7cc608fa"
      },
      "outputs": [
        {
          "data": {
            "text/html": [
              "\n",
              "  <div id=\"df-3b512a21-0219-4f8b-997e-693c3f39de31\">\n",
              "    <div class=\"colab-df-container\">\n",
              "      <div>\n",
              "<style scoped>\n",
              "    .dataframe tbody tr th:only-of-type {\n",
              "        vertical-align: middle;\n",
              "    }\n",
              "\n",
              "    .dataframe tbody tr th {\n",
              "        vertical-align: top;\n",
              "    }\n",
              "\n",
              "    .dataframe thead th {\n",
              "        text-align: right;\n",
              "    }\n",
              "</style>\n",
              "<table border=\"1\" class=\"dataframe\">\n",
              "  <thead>\n",
              "    <tr style=\"text-align: right;\">\n",
              "      <th></th>\n",
              "      <th>X_English</th>\n",
              "      <th>X_French</th>\n",
              "      <th>X_Spanish</th>\n",
              "      <th>X_Portugeese</th>\n",
              "      <th>X_Italian</th>\n",
              "      <th>X_Russian</th>\n",
              "      <th>X_Sweedish</th>\n",
              "      <th>X_Dutch</th>\n",
              "      <th>X_Turkish</th>\n",
              "      <th>X_German</th>\n",
              "      <th>X_Danish</th>\n",
              "      <th>Total</th>\n",
              "    </tr>\n",
              "  </thead>\n",
              "  <tbody>\n",
              "    <tr>\n",
              "      <th>5000</th>\n",
              "      <td>96.124031</td>\n",
              "      <td>92.248062</td>\n",
              "      <td>86.046512</td>\n",
              "      <td>92.248062</td>\n",
              "      <td>94.573643</td>\n",
              "      <td>99.224806</td>\n",
              "      <td>89.147287</td>\n",
              "      <td>93.023256</td>\n",
              "      <td>93.798450</td>\n",
              "      <td>94.573643</td>\n",
              "      <td>91.472868</td>\n",
              "      <td>92.952784</td>\n",
              "    </tr>\n",
              "    <tr>\n",
              "      <th>6000</th>\n",
              "      <td>96.899225</td>\n",
              "      <td>93.798450</td>\n",
              "      <td>84.496124</td>\n",
              "      <td>95.348837</td>\n",
              "      <td>93.798450</td>\n",
              "      <td>98.449612</td>\n",
              "      <td>84.496124</td>\n",
              "      <td>90.697674</td>\n",
              "      <td>93.023256</td>\n",
              "      <td>95.348837</td>\n",
              "      <td>88.372093</td>\n",
              "      <td>92.248062</td>\n",
              "    </tr>\n",
              "    <tr>\n",
              "      <th>7000</th>\n",
              "      <td>95.348837</td>\n",
              "      <td>93.798450</td>\n",
              "      <td>84.496124</td>\n",
              "      <td>92.248062</td>\n",
              "      <td>93.023256</td>\n",
              "      <td>98.449612</td>\n",
              "      <td>88.372093</td>\n",
              "      <td>93.798450</td>\n",
              "      <td>93.023256</td>\n",
              "      <td>92.248062</td>\n",
              "      <td>89.922481</td>\n",
              "      <td>92.248062</td>\n",
              "    </tr>\n",
              "    <tr>\n",
              "      <th>8000</th>\n",
              "      <td>96.124031</td>\n",
              "      <td>91.472868</td>\n",
              "      <td>86.046512</td>\n",
              "      <td>93.798450</td>\n",
              "      <td>95.348837</td>\n",
              "      <td>99.224806</td>\n",
              "      <td>89.922481</td>\n",
              "      <td>94.573643</td>\n",
              "      <td>91.472868</td>\n",
              "      <td>93.798450</td>\n",
              "      <td>89.147287</td>\n",
              "      <td>92.811839</td>\n",
              "    </tr>\n",
              "    <tr>\n",
              "      <th>9000</th>\n",
              "      <td>95.348837</td>\n",
              "      <td>93.023256</td>\n",
              "      <td>84.496124</td>\n",
              "      <td>93.023256</td>\n",
              "      <td>94.573643</td>\n",
              "      <td>99.224806</td>\n",
              "      <td>86.821705</td>\n",
              "      <td>93.798450</td>\n",
              "      <td>96.124031</td>\n",
              "      <td>96.124031</td>\n",
              "      <td>89.147287</td>\n",
              "      <td>92.882311</td>\n",
              "    </tr>\n",
              "    <tr>\n",
              "      <th>10000</th>\n",
              "      <td>96.124031</td>\n",
              "      <td>93.798450</td>\n",
              "      <td>82.945736</td>\n",
              "      <td>93.023256</td>\n",
              "      <td>93.798450</td>\n",
              "      <td>98.449612</td>\n",
              "      <td>90.697674</td>\n",
              "      <td>96.124031</td>\n",
              "      <td>94.573643</td>\n",
              "      <td>94.573643</td>\n",
              "      <td>89.147287</td>\n",
              "      <td>93.023256</td>\n",
              "    </tr>\n",
              "  </tbody>\n",
              "</table>\n",
              "</div>\n",
              "      <button class=\"colab-df-convert\" onclick=\"convertToInteractive('df-3b512a21-0219-4f8b-997e-693c3f39de31')\"\n",
              "              title=\"Convert this dataframe to an interactive table.\"\n",
              "              style=\"display:none;\">\n",
              "        \n",
              "  <svg xmlns=\"http://www.w3.org/2000/svg\" height=\"24px\"viewBox=\"0 0 24 24\"\n",
              "       width=\"24px\">\n",
              "    <path d=\"M0 0h24v24H0V0z\" fill=\"none\"/>\n",
              "    <path d=\"M18.56 5.44l.94 2.06.94-2.06 2.06-.94-2.06-.94-.94-2.06-.94 2.06-2.06.94zm-11 1L8.5 8.5l.94-2.06 2.06-.94-2.06-.94L8.5 2.5l-.94 2.06-2.06.94zm10 10l.94 2.06.94-2.06 2.06-.94-2.06-.94-.94-2.06-.94 2.06-2.06.94z\"/><path d=\"M17.41 7.96l-1.37-1.37c-.4-.4-.92-.59-1.43-.59-.52 0-1.04.2-1.43.59L10.3 9.45l-7.72 7.72c-.78.78-.78 2.05 0 2.83L4 21.41c.39.39.9.59 1.41.59.51 0 1.02-.2 1.41-.59l7.78-7.78 2.81-2.81c.8-.78.8-2.07 0-2.86zM5.41 20L4 18.59l7.72-7.72 1.47 1.35L5.41 20z\"/>\n",
              "  </svg>\n",
              "      </button>\n",
              "      \n",
              "  <style>\n",
              "    .colab-df-container {\n",
              "      display:flex;\n",
              "      flex-wrap:wrap;\n",
              "      gap: 12px;\n",
              "    }\n",
              "\n",
              "    .colab-df-convert {\n",
              "      background-color: #E8F0FE;\n",
              "      border: none;\n",
              "      border-radius: 50%;\n",
              "      cursor: pointer;\n",
              "      display: none;\n",
              "      fill: #1967D2;\n",
              "      height: 32px;\n",
              "      padding: 0 0 0 0;\n",
              "      width: 32px;\n",
              "    }\n",
              "\n",
              "    .colab-df-convert:hover {\n",
              "      background-color: #E2EBFA;\n",
              "      box-shadow: 0px 1px 2px rgba(60, 64, 67, 0.3), 0px 1px 3px 1px rgba(60, 64, 67, 0.15);\n",
              "      fill: #174EA6;\n",
              "    }\n",
              "\n",
              "    [theme=dark] .colab-df-convert {\n",
              "      background-color: #3B4455;\n",
              "      fill: #D2E3FC;\n",
              "    }\n",
              "\n",
              "    [theme=dark] .colab-df-convert:hover {\n",
              "      background-color: #434B5C;\n",
              "      box-shadow: 0px 1px 3px 1px rgba(0, 0, 0, 0.15);\n",
              "      filter: drop-shadow(0px 1px 2px rgba(0, 0, 0, 0.3));\n",
              "      fill: #FFFFFF;\n",
              "    }\n",
              "  </style>\n",
              "\n",
              "      <script>\n",
              "        const buttonEl =\n",
              "          document.querySelector('#df-3b512a21-0219-4f8b-997e-693c3f39de31 button.colab-df-convert');\n",
              "        buttonEl.style.display =\n",
              "          google.colab.kernel.accessAllowed ? 'block' : 'none';\n",
              "\n",
              "        async function convertToInteractive(key) {\n",
              "          const element = document.querySelector('#df-3b512a21-0219-4f8b-997e-693c3f39de31');\n",
              "          const dataTable =\n",
              "            await google.colab.kernel.invokeFunction('convertToInteractive',\n",
              "                                                     [key], {});\n",
              "          if (!dataTable) return;\n",
              "\n",
              "          const docLinkHtml = 'Like what you see? Visit the ' +\n",
              "            '<a target=\"_blank\" href=https://colab.research.google.com/notebooks/data_table.ipynb>data table notebook</a>'\n",
              "            + ' to learn more about interactive tables.';\n",
              "          element.innerHTML = '';\n",
              "          dataTable['output_type'] = 'display_data';\n",
              "          await google.colab.output.renderOutput(dataTable, element);\n",
              "          const docLink = document.createElement('div');\n",
              "          docLink.innerHTML = docLinkHtml;\n",
              "          element.appendChild(docLink);\n",
              "        }\n",
              "      </script>\n",
              "    </div>\n",
              "  </div>\n",
              "  "
            ],
            "text/plain": [
              "       X_English   X_French  X_Spanish  X_Portugeese  X_Italian  X_Russian  \\\n",
              "5000   96.124031  92.248062  86.046512     92.248062  94.573643  99.224806   \n",
              "6000   96.899225  93.798450  84.496124     95.348837  93.798450  98.449612   \n",
              "7000   95.348837  93.798450  84.496124     92.248062  93.023256  98.449612   \n",
              "8000   96.124031  91.472868  86.046512     93.798450  95.348837  99.224806   \n",
              "9000   95.348837  93.023256  84.496124     93.023256  94.573643  99.224806   \n",
              "10000  96.124031  93.798450  82.945736     93.023256  93.798450  98.449612   \n",
              "\n",
              "       X_Sweedish    X_Dutch  X_Turkish   X_German   X_Danish      Total  \n",
              "5000    89.147287  93.023256  93.798450  94.573643  91.472868  92.952784  \n",
              "6000    84.496124  90.697674  93.023256  95.348837  88.372093  92.248062  \n",
              "7000    88.372093  93.798450  93.023256  92.248062  89.922481  92.248062  \n",
              "8000    89.922481  94.573643  91.472868  93.798450  89.147287  92.811839  \n",
              "9000    86.821705  93.798450  96.124031  96.124031  89.147287  92.882311  \n",
              "10000   90.697674  96.124031  94.573643  94.573643  89.147287  93.023256  "
            ]
          },
          "execution_count": 127,
          "metadata": {},
          "output_type": "execute_result"
        }
      ],
      "source": [
        "df_res_rob"
      ]
    },
    {
      "cell_type": "code",
      "execution_count": null,
      "metadata": {
        "colab": {
          "base_uri": "https://localhost:8080/",
          "height": 301
        },
        "id": "7BKrVD-38clf",
        "outputId": "4895dac0-a00d-49fc-cd07-ec4e1cc60091"
      },
      "outputs": [
        {
          "data": {
            "text/html": [
              "\n",
              "  <div id=\"df-ac90ec46-75b4-4ebd-85b0-d6f200f839c3\">\n",
              "    <div class=\"colab-df-container\">\n",
              "      <div>\n",
              "<style scoped>\n",
              "    .dataframe tbody tr th:only-of-type {\n",
              "        vertical-align: middle;\n",
              "    }\n",
              "\n",
              "    .dataframe tbody tr th {\n",
              "        vertical-align: top;\n",
              "    }\n",
              "\n",
              "    .dataframe thead th {\n",
              "        text-align: right;\n",
              "    }\n",
              "</style>\n",
              "<table border=\"1\" class=\"dataframe\">\n",
              "  <thead>\n",
              "    <tr style=\"text-align: right;\">\n",
              "      <th></th>\n",
              "      <th>X_English</th>\n",
              "      <th>X_French</th>\n",
              "      <th>X_Spanish</th>\n",
              "      <th>X_Portugeese</th>\n",
              "      <th>X_Italian</th>\n",
              "      <th>X_Russian</th>\n",
              "      <th>X_Sweedish</th>\n",
              "      <th>X_Dutch</th>\n",
              "      <th>X_Turkish</th>\n",
              "      <th>X_German</th>\n",
              "      <th>X_Danish</th>\n",
              "      <th>Total</th>\n",
              "    </tr>\n",
              "  </thead>\n",
              "  <tbody>\n",
              "    <tr>\n",
              "      <th>5000</th>\n",
              "      <td>0.000000</td>\n",
              "      <td>-1.550388</td>\n",
              "      <td>-1.550388</td>\n",
              "      <td>-1.550388</td>\n",
              "      <td>-3.100775</td>\n",
              "      <td>0.775194</td>\n",
              "      <td>-3.100775</td>\n",
              "      <td>-1.550388</td>\n",
              "      <td>-3.875969</td>\n",
              "      <td>0.000000</td>\n",
              "      <td>-6.201550</td>\n",
              "      <td>-1.973221</td>\n",
              "    </tr>\n",
              "    <tr>\n",
              "      <th>6000</th>\n",
              "      <td>-0.775194</td>\n",
              "      <td>-1.550388</td>\n",
              "      <td>-0.775194</td>\n",
              "      <td>-3.875969</td>\n",
              "      <td>-2.325581</td>\n",
              "      <td>0.775194</td>\n",
              "      <td>-4.651163</td>\n",
              "      <td>-1.550388</td>\n",
              "      <td>-2.325581</td>\n",
              "      <td>1.550388</td>\n",
              "      <td>-3.875969</td>\n",
              "      <td>-1.761804</td>\n",
              "    </tr>\n",
              "    <tr>\n",
              "      <th>7000</th>\n",
              "      <td>-0.775194</td>\n",
              "      <td>-1.550388</td>\n",
              "      <td>-3.100775</td>\n",
              "      <td>-1.550388</td>\n",
              "      <td>-3.875969</td>\n",
              "      <td>0.000000</td>\n",
              "      <td>-4.651163</td>\n",
              "      <td>3.100775</td>\n",
              "      <td>-4.651163</td>\n",
              "      <td>1.550388</td>\n",
              "      <td>-3.100775</td>\n",
              "      <td>-1.691332</td>\n",
              "    </tr>\n",
              "    <tr>\n",
              "      <th>8000</th>\n",
              "      <td>-2.325581</td>\n",
              "      <td>0.775194</td>\n",
              "      <td>-1.550388</td>\n",
              "      <td>-3.100775</td>\n",
              "      <td>-2.325581</td>\n",
              "      <td>0.000000</td>\n",
              "      <td>-6.201550</td>\n",
              "      <td>-3.100775</td>\n",
              "      <td>1.550388</td>\n",
              "      <td>1.550388</td>\n",
              "      <td>0.000000</td>\n",
              "      <td>-1.338971</td>\n",
              "    </tr>\n",
              "    <tr>\n",
              "      <th>9000</th>\n",
              "      <td>-0.775194</td>\n",
              "      <td>0.000000</td>\n",
              "      <td>-3.100775</td>\n",
              "      <td>-3.100775</td>\n",
              "      <td>-2.325581</td>\n",
              "      <td>0.000000</td>\n",
              "      <td>-3.100775</td>\n",
              "      <td>-1.550388</td>\n",
              "      <td>-3.100775</td>\n",
              "      <td>-0.775194</td>\n",
              "      <td>-6.201550</td>\n",
              "      <td>-2.184637</td>\n",
              "    </tr>\n",
              "    <tr>\n",
              "      <th>10000</th>\n",
              "      <td>-1.550388</td>\n",
              "      <td>-2.325581</td>\n",
              "      <td>-1.550388</td>\n",
              "      <td>-3.875969</td>\n",
              "      <td>-3.100775</td>\n",
              "      <td>-0.775194</td>\n",
              "      <td>-4.651163</td>\n",
              "      <td>-3.875969</td>\n",
              "      <td>-1.550388</td>\n",
              "      <td>0.000000</td>\n",
              "      <td>-1.550388</td>\n",
              "      <td>-2.255109</td>\n",
              "    </tr>\n",
              "  </tbody>\n",
              "</table>\n",
              "</div>\n",
              "      <button class=\"colab-df-convert\" onclick=\"convertToInteractive('df-ac90ec46-75b4-4ebd-85b0-d6f200f839c3')\"\n",
              "              title=\"Convert this dataframe to an interactive table.\"\n",
              "              style=\"display:none;\">\n",
              "        \n",
              "  <svg xmlns=\"http://www.w3.org/2000/svg\" height=\"24px\"viewBox=\"0 0 24 24\"\n",
              "       width=\"24px\">\n",
              "    <path d=\"M0 0h24v24H0V0z\" fill=\"none\"/>\n",
              "    <path d=\"M18.56 5.44l.94 2.06.94-2.06 2.06-.94-2.06-.94-.94-2.06-.94 2.06-2.06.94zm-11 1L8.5 8.5l.94-2.06 2.06-.94-2.06-.94L8.5 2.5l-.94 2.06-2.06.94zm10 10l.94 2.06.94-2.06 2.06-.94-2.06-.94-.94-2.06-.94 2.06-2.06.94z\"/><path d=\"M17.41 7.96l-1.37-1.37c-.4-.4-.92-.59-1.43-.59-.52 0-1.04.2-1.43.59L10.3 9.45l-7.72 7.72c-.78.78-.78 2.05 0 2.83L4 21.41c.39.39.9.59 1.41.59.51 0 1.02-.2 1.41-.59l7.78-7.78 2.81-2.81c.8-.78.8-2.07 0-2.86zM5.41 20L4 18.59l7.72-7.72 1.47 1.35L5.41 20z\"/>\n",
              "  </svg>\n",
              "      </button>\n",
              "      \n",
              "  <style>\n",
              "    .colab-df-container {\n",
              "      display:flex;\n",
              "      flex-wrap:wrap;\n",
              "      gap: 12px;\n",
              "    }\n",
              "\n",
              "    .colab-df-convert {\n",
              "      background-color: #E8F0FE;\n",
              "      border: none;\n",
              "      border-radius: 50%;\n",
              "      cursor: pointer;\n",
              "      display: none;\n",
              "      fill: #1967D2;\n",
              "      height: 32px;\n",
              "      padding: 0 0 0 0;\n",
              "      width: 32px;\n",
              "    }\n",
              "\n",
              "    .colab-df-convert:hover {\n",
              "      background-color: #E2EBFA;\n",
              "      box-shadow: 0px 1px 2px rgba(60, 64, 67, 0.3), 0px 1px 3px 1px rgba(60, 64, 67, 0.15);\n",
              "      fill: #174EA6;\n",
              "    }\n",
              "\n",
              "    [theme=dark] .colab-df-convert {\n",
              "      background-color: #3B4455;\n",
              "      fill: #D2E3FC;\n",
              "    }\n",
              "\n",
              "    [theme=dark] .colab-df-convert:hover {\n",
              "      background-color: #434B5C;\n",
              "      box-shadow: 0px 1px 3px 1px rgba(0, 0, 0, 0.15);\n",
              "      filter: drop-shadow(0px 1px 2px rgba(0, 0, 0, 0.3));\n",
              "      fill: #FFFFFF;\n",
              "    }\n",
              "  </style>\n",
              "\n",
              "      <script>\n",
              "        const buttonEl =\n",
              "          document.querySelector('#df-ac90ec46-75b4-4ebd-85b0-d6f200f839c3 button.colab-df-convert');\n",
              "        buttonEl.style.display =\n",
              "          google.colab.kernel.accessAllowed ? 'block' : 'none';\n",
              "\n",
              "        async function convertToInteractive(key) {\n",
              "          const element = document.querySelector('#df-ac90ec46-75b4-4ebd-85b0-d6f200f839c3');\n",
              "          const dataTable =\n",
              "            await google.colab.kernel.invokeFunction('convertToInteractive',\n",
              "                                                     [key], {});\n",
              "          if (!dataTable) return;\n",
              "\n",
              "          const docLinkHtml = 'Like what you see? Visit the ' +\n",
              "            '<a target=\"_blank\" href=https://colab.research.google.com/notebooks/data_table.ipynb>data table notebook</a>'\n",
              "            + ' to learn more about interactive tables.';\n",
              "          element.innerHTML = '';\n",
              "          dataTable['output_type'] = 'display_data';\n",
              "          await google.colab.output.renderOutput(dataTable, element);\n",
              "          const docLink = document.createElement('div');\n",
              "          docLink.innerHTML = docLinkHtml;\n",
              "          element.appendChild(docLink);\n",
              "        }\n",
              "      </script>\n",
              "    </div>\n",
              "  </div>\n",
              "  "
            ],
            "text/plain": [
              "       X_English  X_French  X_Spanish  X_Portugeese  X_Italian  X_Russian  \\\n",
              "5000    0.000000 -1.550388  -1.550388     -1.550388  -3.100775   0.775194   \n",
              "6000   -0.775194 -1.550388  -0.775194     -3.875969  -2.325581   0.775194   \n",
              "7000   -0.775194 -1.550388  -3.100775     -1.550388  -3.875969   0.000000   \n",
              "8000   -2.325581  0.775194  -1.550388     -3.100775  -2.325581   0.000000   \n",
              "9000   -0.775194  0.000000  -3.100775     -3.100775  -2.325581   0.000000   \n",
              "10000  -1.550388 -2.325581  -1.550388     -3.875969  -3.100775  -0.775194   \n",
              "\n",
              "       X_Sweedish   X_Dutch  X_Turkish  X_German  X_Danish     Total  \n",
              "5000    -3.100775 -1.550388  -3.875969  0.000000 -6.201550 -1.973221  \n",
              "6000    -4.651163 -1.550388  -2.325581  1.550388 -3.875969 -1.761804  \n",
              "7000    -4.651163  3.100775  -4.651163  1.550388 -3.100775 -1.691332  \n",
              "8000    -6.201550 -3.100775   1.550388  1.550388  0.000000 -1.338971  \n",
              "9000    -3.100775 -1.550388  -3.100775 -0.775194 -6.201550 -2.184637  \n",
              "10000   -4.651163 -3.875969  -1.550388  0.000000 -1.550388 -2.255109  "
            ]
          },
          "execution_count": 147,
          "metadata": {},
          "output_type": "execute_result"
        }
      ],
      "source": [
        "df_new = df_res_rob - df_res\n",
        "df_new"
      ]
    },
    {
      "cell_type": "markdown",
      "metadata": {
        "id": "Z2SCmV8OsMgV"
      },
      "source": [
        "#Misc"
      ]
    },
    {
      "cell_type": "code",
      "execution_count": null,
      "metadata": {
        "colab": {
          "base_uri": "https://localhost:8080/",
          "height": 283
        },
        "id": "qa7g93Uci0HX",
        "outputId": "afd01719-0e64-4629-d1d3-01ef52732908"
      },
      "outputs": [
        {
          "data": {
            "image/png": "[encoded data removed]",
            "text/plain": [
              "<Figure size 432x288 with 1 Axes>"
            ]
          },
          "metadata": {
            "needs_background": "light"
          },
          "output_type": "display_data"
        },
        {
          "data": {
            "text/plain": [
              "<Figure size 2.88e+06x7200 with 0 Axes>"
            ]
          },
          "metadata": {},
          "output_type": "display_data"
        }
      ],
      "source": [
        "ax = plt.gca()\n",
        "\n",
        "# line plot for math marks\n",
        "# df_res.plot(kind = 'line',\n",
        "#         x = 'Dimension',\n",
        "#         y = 'X_English',\n",
        "#         color = 'green',ax = ax)\n",
        "\n",
        "# df_res.plot(kind = 'line',\n",
        "#         x = 'Dimension',\n",
        "#         y = 'X_French',\n",
        "#         color = 'yellow',ax = ax)\n",
        "\n",
        "# df_res.plot(kind = 'line',\n",
        "#         x = 'Dimension',\n",
        "#         y = 'X_Russian',\n",
        "#         color = 'red',ax = ax)\n",
        "\n",
        "df_res.plot(kind = 'line',\n",
        "        y = 'Total',\n",
        "        color = 'green',ax = ax)\n",
        "\n",
        "df_res_rob.plot(kind = 'line',\n",
        "        y = 'Total',\n",
        "        color = 'black',ax = ax)\n",
        "\n",
        "# df_res.plot(kind = 'line',\n",
        "#         x = 'Dimension',\n",
        "#         y = 'X_Dutch',\n",
        "#         color = 'brown',ax = ax)\n",
        "\n",
        "\n",
        "# df_res.plot(kind = 'line',\n",
        "#         x = 'Dimension',\n",
        "#         y = 'X_Italian',\n",
        "#         color = 'violet',ax = ax)\n",
        "\n",
        "# df_res.plot(kind = 'line',\n",
        "#         x = 'Dimension',\n",
        "#         y = 'X_Sweedish',\n",
        "#         color = 'blue',ax = ax)\n",
        "\n",
        "# df_res.plot(kind = 'line',\n",
        "#         x = 'Dimension',\n",
        "#         y = 'X_Turkish',\n",
        "#         color = 'purple',ax = ax)\n",
        "\n",
        "# df_res.plot(kind = 'line',\n",
        "#         x = 'Dimension',\n",
        "#         y = 'X_Danish',\n",
        "#         color = 'indigo',ax = ax)\n",
        "\n",
        "# df_res.plot(kind = 'line',\n",
        "#         x = 'Dimension',\n",
        "#         y = 'X_Spanish',\n",
        "#         color = 'cyan',ax = ax)\n",
        "\n",
        "# show the plot\n",
        "f = plt.figure()\n",
        "f.set_figwidth(40000)\n",
        "f.set_figheight(100)\n",
        "plt.show()"
      ]
    },
    {
      "cell_type": "code",
      "execution_count": null,
      "metadata": {
        "id": "aj8W3KKjUWUK"
      },
      "outputs": [],
      "source": [
        "  # #{\"English\", \"French\", \"Spanish\", \"Portugeese\", \"Italian\", \"Russian\", \"Sweedish\", \"Dutch\", \"Turkish\", \"German\", \"Danish\"}\n",
        "  # #Counter(\n",
        "  #     {'English': 1385,\n",
        "  #      'French': 1014,\n",
        "  #      'Spanish': 819,\n",
        "  #      'Portugeese': 739,\n",
        "  #      'Italian': 698,\n",
        "  #      'Russian': 692,\n",
        "  #      'Sweedish': 676,\n",
        "  #      'Dutch': 546,\n",
        "  #      'Turkish': 474,\n",
        "  #      'German': 470,\n",
        "  #      'Danish': 428}"
      ]
    },
    {
      "cell_type": "code",
      "execution_count": null,
      "metadata": {
        "id": "laSVccEIAu29"
      },
      "outputs": [],
      "source": [
        "# For Robustness testing when Language vectors bits are changed by p%\n",
        "\n",
        "# for i in range(len(dimensions)):\n",
        "#   dim = dimensions[i]\n",
        "#   letter_mappings = generateLetterMappings(dim)\n",
        "#   print(\"Dimension: \", dim)\n",
        "#   N_gram = 3\n",
        "#   language_vectors_norm = getLangVect(dim, N_gram, trainData, letter_mappings)\n",
        "#   language_vectors_rob = np.copy(language_vectors_norm)\n",
        "#   language_vectors_rob = addNoise(language_vectors_rob)\n",
        "#   print(np.unique(language_vectors_norm[0] - language_vectors_rob[0]))\n",
        "#   # print(language_vectors)\n",
        "#   df_res = test(dim, N_gram, testData, language_vectors_norm, df_res)\n",
        "#   df_res_rob = test(dim, N_gram, testData, language_vectors_rob, df_res_rob)\n",
        "#   print(df_res - df_res_rob)"
      ]
    },
    {
      "cell_type": "code",
      "execution_count": null,
      "metadata": {
        "id": "y-8Ja1q-FCJ8"
      },
      "outputs": [],
      "source": [
        "# noiseInLV = 0.05\n",
        "\n",
        "# def flip(bit):\n",
        "#   if(bit == 0):\n",
        "#     return 1\n",
        "#   else:\n",
        "#     return 0\n",
        "\n",
        "# def addNoise(lvs):\n",
        "#   posi = list(range(0, dim))\n",
        "#   for i in range(len(lvs)):\n",
        "#     lvec = lvs[i]\n",
        "#     # print(lvs[i])\n",
        "#     random.shuffle(posi)\n",
        "#     pos_to_flip = posi[0:int(noiseInLV*dim)]\n",
        "#     for pos in pos_to_flip:\n",
        "#       lvec[pos] = flip(lvec[pos])\n",
        "#     lvs[i] = lvec\n",
        "#     # print(lvs[i])\n",
        "#   return lvs"
      ]
    },
    {
      "cell_type": "code",
      "execution_count": null,
      "metadata": {
        "id": "nAN70nlPIsOV"
      },
      "outputs": [],
      "source": [
        "# dim = 50\n",
        "# letter_mappings = generateLetterMappings(dim)\n",
        "# N_gram = 3\n",
        "# language_vectors_norm = getLangVect(dim, N_gram, trainData, letter_mappings)\n",
        "# language_vectors_rob = np.copy(language_vectors_norm)\n",
        "# language_vectors_rob = addNoise(language_vectors_rob)"
      ]
    }
  ],
  "metadata": {
    "accelerator": "GPU",
    "colab": {
      "provenance": [],
      "toc_visible": true
    },
    "gpuClass": "standard",
    "kernelspec": {
      "display_name": "Python 3",
      "name": "python3"
    },
    "language_info": {
      "codemirror_mode": {
        "name": "ipython",
        "version": 3
      },
      "file_extension": ".py",
      "mimetype": "text/x-python",
      "name": "python",
      "nbconvert_exporter": "python",
      "pygments_lexer": "ipython3",
      "version": "3.11.4"
    }
  },
  "nbformat": 4,
  "nbformat_minor": 0
}
